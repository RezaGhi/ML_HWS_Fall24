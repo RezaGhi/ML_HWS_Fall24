{
  "cells": [
    {
      "cell_type": "markdown",
      "metadata": {
        "id": "y09iFsmx2Vcw"
      },
      "source": [
        "<img src='./pic/sharif-main-logo.png' alt=\"SUT logo\" width=300 height=300 align=left class=\"saturate\" > <br>\n",
        "\n",
        "<div dir=ltr align=center>\n",
        "<font color=0F5298 size=7>\n",
        "    یادگیری ماشین <br>\n",
        "<font color=2565AE size=5>\n",
        "    دانشکده مهندسی کامپیوتر <br>\n",
        "    پاییز ۱۴۰۳ <br>\n",
        "<font color=3C99D size=5>\n",
        "   تمرین عملی اول - یادگیری نظارت شده <br>\n",
        "<font color=696880 size=4>\n",
        "    عرفان سلیما - سارینا حشمتی - نیکان واسعی - فاطمه شیری"
      ]
    },
    {
      "cell_type": "markdown",
      "metadata": {
        "id": "-yklWdoqnIKJ"
      },
      "source": [
        "<div dir=rtl>\n",
        "<font size=6>\n",
        "اطلاعات دانشجو"
      ]
    },
    {
      "cell_type": "code",
      "execution_count": null,
      "metadata": {
        "id": "JwfUTgzHnIKK"
      },
      "outputs": [],
      "source": [
        "student_number = '403206565'\n",
        "Name = 'Reza'\n",
        "Last_Name = 'Ghorbani'"
      ]
    },
    {
      "cell_type": "markdown",
      "metadata": {
        "id": "OupwuFnqnIKM"
      },
      "source": [
        "<div dir=rtl>\n",
        "<font size=6>\n",
        "نحوه پیاده سازی"
      ]
    },
    {
      "cell_type": "markdown",
      "metadata": {
        "id": "lCUAtWN522T4"
      },
      "source": [
        "<div dir=rtl>\n",
        "<font size=4>\n",
        " با استفاده از تابع make_blobs از کتابخانه sklearn به کمک قطعه کد\n",
        "زیر، مجموعه داده ای بسازید که به صورت خطی\n",
        "جدایی پذیر باشد. هر ستون از ماتریس X شامل ویژگی های یک نمونه داده است."
      ]
    },
    {
      "cell_type": "code",
      "execution_count": null,
      "metadata": {
        "id": "sbBYk18H2TVg"
      },
      "outputs": [],
      "source": [
        "from sklearn.datasets import make_blobs\n",
        "X, y = make_blobs(n_samples=100, n_features=10, centers=2, random_state=41)"
      ]
    },
    {
      "cell_type": "markdown",
      "metadata": {
        "id": "SFi-rRwJ3E3-"
      },
      "source": [
        "<div dir=rtl>\n",
        "<font size=4>\n",
        " ابتدا کلاسی به نام F در نظر بگیرید و یکی از متد های آن را به نام sign پیاده سازی کنید. متدهای این کلاس متعلق به کلاس\n",
        "هستند و باید به صورت static تعریف شوند. در حقیقت این کلاس مسئول نگهداری توابع کاربردی برای انجام محاسبات\n",
        "است که در اینجا ما فقط میخواهیم sign را تعریف کنیم."
      ]
    },
    {
      "cell_type": "code",
      "execution_count": null,
      "metadata": {
        "id": "ta3SQGNJ3OeO",
        "colab": {
          "base_uri": "https://localhost:8080/"
        },
        "outputId": "c614c0d9-78ba-4150-af6f-87ca574e758c"
      },
      "outputs": [
        {
          "output_type": "execute_result",
          "data": {
            "text/plain": [
              "[1, -1, 1, 1, -1, 0]"
            ]
          },
          "metadata": {},
          "execution_count": 5
        }
      ],
      "source": [
        "class F:\n",
        "  @staticmethod\n",
        "  def sign(x):\n",
        "    # Implement the sign activation function\n",
        "    if x > 0:\n",
        "        return 1\n",
        "    elif x < 0:\n",
        "        return -1\n",
        "    else:\n",
        "        return 0\n",
        "\n",
        "values = [10, -1, 2, 3, -5, 0]\n",
        "result = [F.sign(x) for x in values]\n",
        "result"
      ]
    },
    {
      "cell_type": "markdown",
      "metadata": {
        "id": "prCJVzUh3Wd5"
      },
      "source": [
        "<div dir=rtl>\n",
        "<font size=4>\n",
        " کلاس Perceptron را مانند تکه کد زیر در نظر بگیرید. این موجودیت تنها وظیفه نگهداری وزن های پرسپترون ما و محاسبه\n",
        "y براساس ورودی ما یعنی X را دارد. برای مقدار دهی اولیه وزن ها و بایاس میتوانید از کتابخانه numpy استفاده کنید."
      ]
    },
    {
      "cell_type": "code",
      "execution_count": null,
      "metadata": {
        "id": "FRApiOaV3khr",
        "colab": {
          "base_uri": "https://localhost:8080/"
        },
        "outputId": "9954a022-b3e4-467c-80c0-360c6a392bef"
      },
      "outputs": [
        {
          "output_type": "stream",
          "name": "stdout",
          "text": [
            "خروجی پرسپترون: -1\n"
          ]
        }
      ],
      "source": [
        "import numpy as np\n",
        "\n",
        "class Perceptron:\n",
        "  def __init__(self, input_size):\n",
        "    # Initialize the weights and biases of the new modelts\n",
        "    self.weights = np.random.randn(input_size)\n",
        "\n",
        "    self.bias = np.random.randn()\n",
        "\n",
        "  def forward(self, input):\n",
        "    # Feed input features to your model and return output\n",
        "    weighted_sum = np.dot(input,self.weights) + self.bias\n",
        "\n",
        "    af = F()\n",
        "\n",
        "    output = af.sign(weighted_sum)\n",
        "\n",
        "    return output\n",
        "\n",
        "perceptron = Perceptron(input_size=10)\n",
        "X_sample = np.random.randn(10)\n",
        "\n",
        "y_output = perceptron.forward(X_sample)\n",
        "print(\"خروجی پرسپترون:\", y_output)"
      ]
    },
    {
      "cell_type": "markdown",
      "metadata": {
        "id": "WF8lQoZA3pgt"
      },
      "source": [
        "<div dir=rtl>\n",
        "<font size=4>\n",
        "حال کلاس Optimizer را مطابق قطعه کد زیر پیاده سازی کنید. این کلاس وظیفه این را دارد که مدل ما را بهینه کند. بدین\n",
        "معنی که در هر مرحله از یادگیری سعی کند وزن ها را در جهتی بروزرسانی کند که در نهایت ما هیچ خطایی نداشته باشیم (با\n",
        "فرض خطی جدایی پذیر بودن داده ها)"
      ]
    },
    {
      "cell_type": "code",
      "execution_count": null,
      "metadata": {
        "id": "ksQEHkz54HeO",
        "colab": {
          "base_uri": "https://localhost:8080/"
        },
        "outputId": "46620d84-e3cb-4e0c-c991-2cd96ff53ef9"
      },
      "outputs": [
        {
          "output_type": "stream",
          "name": "stdout",
          "text": [
            "updated weights: [ 1.51945703 -0.78256162 -1.43138605 -0.96622756 -1.43891626  0.43586077\n",
            "  0.71896588  0.58468748 -0.99756801 -1.81273176]\n",
            "updated bias: -0.846373370138648\n"
          ]
        }
      ],
      "source": [
        "class Optimizer:\n",
        "    def __init__(self, model, learning_rate=0.01):\n",
        "\n",
        "        self.model = model\n",
        "        self.learning_rate = learning_rate\n",
        "\n",
        "    def update(self, x, y, y_hat):\n",
        "\n",
        "        error = y - y_hat\n",
        "\n",
        "        self.model.weights += self.learning_rate * error * x\n",
        "\n",
        "        self.model.bias += self.learning_rate * error\n",
        "\n",
        "optimizer = Optimizer(perceptron, learning_rate=0.01)\n",
        "\n",
        "X_sample = np.random.randn(10)\n",
        "y_true = 1\n",
        "\n",
        "y_pred = perceptron.forward(X_sample)\n",
        "\n",
        "optimizer.update(X_sample, y_true, y_pred)\n",
        "\n",
        "print(\"updated weights:\", perceptron.weights)\n",
        "print(\"updated bias:\", perceptron.bias)\n"
      ]
    },
    {
      "cell_type": "markdown",
      "metadata": {
        "id": "lHKc8Rpc4KT2"
      },
      "source": [
        "<div dir=rtl>\n",
        "<font size=4>\n",
        "با توجه به تعداد ویژگی های داده های موجود، یک شی Perceptron بسازید (این پارامتر باید با تعداد ویژگی های قسمت\n",
        "اول یکسان باشد) در مرحله بعدی به Optimizer اجازه دهید تا به مدل شما دسترسی داشته باشد تا بتواند آن را بهینه کند."
      ]
    },
    {
      "cell_type": "markdown",
      "metadata": {
        "id": "FAwckbDH4TIa"
      },
      "source": [
        "<div dir=rtl>\n",
        "<font size=4>\n",
        "در این قسمت شما باید با پیاده سازی فرآیندی مناسب با استفاده از instance های Optimizer و Perceptron وضعیت\n",
        "مدل را بهبود بدهید تا به ابر صفحه جدا کننده نزدیک تر شود."
      ]
    },
    {
      "cell_type": "code",
      "execution_count": null,
      "metadata": {
        "id": "vlvPXwMm4QTI",
        "colab": {
          "base_uri": "https://localhost:8080/"
        },
        "outputId": "7e41b49f-b378-495a-cca3-1f499dffee41"
      },
      "outputs": [
        {
          "output_type": "stream",
          "name": "stdout",
          "text": [
            "final weights: [0.4810659  0.02380533]\n",
            "fiand bias 0.7328646891810382\n",
            "دقت نهایی مدل: 1.0\n"
          ]
        }
      ],
      "source": [
        "n_iter = 10000\n",
        "\n",
        "for _ in range(n_iter):\n",
        "    for x, y_true in zip(X, y):\n",
        "\n",
        "        y_pred = perceptron.forward(x)\n",
        "\n",
        "        optimizer.update(x, y_true, y_pred)\n",
        "\n",
        "\n",
        "print(\"final weights:\", perceptron.weights)\n",
        "print(\"fiand bias\", perceptron.bias)\n",
        "\n",
        "# پیش‌بینی نهایی برای بررسی\n",
        "y_final_preds = np.array([perceptron.forward(x) for x in X])\n",
        "\n",
        "# بررسی دقت پیش‌بینی\n",
        "accuracy = np.mean(y_final_preds == y)\n",
        "print(\"دقت نهایی مدل:\", accuracy)"
      ]
    },
    {
      "cell_type": "markdown",
      "metadata": {
        "id": "bg5D9ooD4c-_"
      },
      "source": [
        "<div dir=rtl>\n",
        "<font size=4>\n",
        "به ازای n_features برابر ۲ نقاط مجموعه داده ی خود و خط حاصل از Perceptron خود را به کمک کتابخانه Ⅿatpⅼotⅼib\n",
        "در فضای ۲ بعدی نمایش دهید."
      ]
    },
    {
      "cell_type": "code",
      "execution_count": null,
      "metadata": {
        "colab": {
          "base_uri": "https://localhost:8080/",
          "height": 564
        },
        "id": "hdqkq0ndnIKQ",
        "outputId": "3defd799-ee1f-49dd-c8cd-279d7680d192"
      },
      "outputs": [
        {
          "output_type": "display_data",
          "data": {
            "text/plain": [
              "<Figure size 1000x600 with 1 Axes>"
            ],
            "image/png": "[encoded data removed]"
          },
          "metadata": {}
        }
      ],
      "source": [
        "\n",
        "X, y = make_blobs(n_samples=100, n_features=2, centers=2, random_state=41)\n",
        "\n",
        "y = np.where(y == 0, -1, 1)\n",
        "\n",
        "input_size = X.shape[1]\n",
        "\n",
        "perceptron = Perceptron(input_size)\n",
        "\n",
        "optimizer = Optimizer(perceptron, learning_rate=0.01)\n",
        "\n",
        "n_iter = 1000\n",
        "\n",
        "for _ in range(n_iter):\n",
        "    for x, y_true in zip(X, y):\n",
        "\n",
        "        y_pred = perceptron.forward(x)\n",
        "\n",
        "        optimizer.update(x, y_true, y_pred)\n",
        "\n",
        "x_min, x_max = X[:, 0].min() - 1, X[:, 0].max() + 1\n",
        "y_min, y_max = X[:, 1].min() - 1, X[:, 1].max() + 1\n",
        "xx, yy = np.meshgrid(np.linspace(x_min, x_max, 100), np.linspace(y_min, y_max, 100))\n",
        "Z = perceptron.forward(np.c_[xx.ravel(), yy.ravel()])\n",
        "Z = Z.reshape(xx.shape)\n",
        "\n",
        "plt.figure(figsize=(10, 6))\n",
        "plt.scatter(X[y == 1][:, 0], X[y == 1][:, 1], color='b', label='Class 1')\n",
        "plt.scatter(X[y == -1][:, 0], X[y == -1][:, 1], color='r', label='Class -1')\n",
        "\n",
        "plt.contour(xx, yy, Z, levels=[0], linewidths=2, colors='k')\n",
        "\n",
        "plt.title('Perceptron Decision Boundary')\n",
        "plt.xlabel('Feature 1')\n",
        "plt.ylabel('Feature 2')\n",
        "plt.legend()\n",
        "plt.grid()\n",
        "plt.show()\n"
      ]
    }
  ],
  "metadata": {
    "colab": {
      "provenance": []
    },
    "kernelspec": {
      "display_name": "Python 3 (ipykernel)",
      "language": "python",
      "name": "python3"
    },
    "language_info": {
      "codemirror_mode": {
        "name": "ipython",
        "version": 3
      },
      "file_extension": ".py",
      "mimetype": "text/x-python",
      "name": "python",
      "nbconvert_exporter": "python",
      "pygments_lexer": "ipython3",
      "version": "3.11.3"
    }
  },
  "nbformat": 4,
  "nbformat_minor": 0
}