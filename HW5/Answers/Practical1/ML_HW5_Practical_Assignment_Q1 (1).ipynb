{
  "cells": [
    {
      "cell_type": "markdown",
      "source": [
        "<br>\n",
        "<font>\n",
        "<div dir=ltr align=center>\n",
        "<img src=\"https://cdn.freebiesupply.com/logos/large/2x/sharif-logo-png-transparent.png\" width=150 height=150> <br>\n",
        "<font color=0F5298 size=7>\n",
        "    Machine learning <br>\n",
        "<font color=2565AE size=5>\n",
        "    Computer Engineering Department <br>\n",
        "    Fall 2024<br>\n",
        "<font color=3C99D size=5>\n",
        "    Practical Assignment 5 - NLP - Skip-Gram <br>\n",
        "<font color=0CBCDF size=4>\n",
        "   &#x1F335; Amirhossein Akbari  &#x1F335;\n",
        "</div>\n",
        "\n",
        "____"
      ],
      "metadata": {
        "id": "0QOmoitc9qC4"
      }
    },
    {
      "cell_type": "markdown",
      "source": [
        "<font color=9999FF size=4>\n",
        "&#x1F388; Full Name : Reza Ghorbani paji\n",
        "<br>\n",
        "<font color=9999FF size=4>\n",
        "&#x1F388; Student Number : 403206565"
      ],
      "metadata": {
        "id": "35Y0nSE3-wuW"
      }
    },
    {
      "cell_type": "markdown",
      "source": [
        "<font color=0080FF size=3>\n",
        "This notebook explores word embeddings, compact and dense vector representations of words that capture their textual meaning. This notebook focusing on implementing the Word2Vec algorithm using the Skip-gram architecture and negative sampling.\n",
        "</font>\n",
        "<br>\n",
        "\n",
        "**Note:**\n",
        "<br>\n",
        "<font color=66B2FF size=2>In this notebook, you are free to use any function or model from TensorFlow to assist with the implementation. However, PyTorch is not permitted for this exercise. This ensures consistency and alignment with the tools being focused on.</font>\n",
        "<br>\n",
        "<font color=red size=3>**Run All Cells Before Submission**</font>: <font color=FF99CC size=2>Before saving and submitting your notebook, please ensure you run all cells from start to finish. This practice guarantees that your notebook is self-consistent and can be evaluated correctly by others.</font>"
      ],
      "metadata": {
        "id": "i4spZpsq_Pxf"
      }
    },
    {
      "cell_type": "markdown",
      "source": [
        "<font color=#ffb578 size=3>\n",
        "you are free to modify, add, or remove any cells as you see fit to complete your tasks. Feel free to change any of the provided code or content to better suit your understanding and approach to the problems.\n",
        "\n",
        "- **Questions**: If you have any questions or require clarifications as you work through the notebook, please do not hesitate to ask. You can post your queries on Quera or reach out via Telegram.\n",
        "- **Feedback**: We encourage you to seek feedback and engage in discussions to enhance your learning experience and improve your solutions.\n",
        "</font>"
      ],
      "metadata": {
        "id": "hZCaUs-3FsJk"
      }
    },
    {
      "cell_type": "code",
      "execution_count": null,
      "metadata": {
        "execution": {
          "iopub.execute_input": "2020-10-10T13:12:41.263643Z",
          "iopub.status.busy": "2020-10-10T13:12:41.262979Z",
          "iopub.status.idle": "2020-10-10T13:12:49.471771Z",
          "shell.execute_reply": "2020-10-10T13:12:49.471205Z"
        },
        "id": "hoV5vSSSbIp0",
        "outputId": "2ef01bee-5042-4645-a12a-37aea39efb1b",
        "papermill": {
          "duration": 8.238801,
          "end_time": "2020-10-10T13:12:49.471884",
          "exception": false,
          "start_time": "2020-10-10T13:12:41.233083",
          "status": "completed"
        },
        "tags": [],
        "colab": {
          "base_uri": "https://localhost:8080/"
        }
      },
      "outputs": [
        {
          "output_type": "stream",
          "name": "stderr",
          "text": [
            "[nltk_data] Downloading package stopwords to /root/nltk_data...\n",
            "[nltk_data]   Package stopwords is already up-to-date!\n"
          ]
        }
      ],
      "source": [
        "import io\n",
        "import math\n",
        "import gzip\n",
        "import nltk\n",
        "import time\n",
        "import random\n",
        "import numpy as np\n",
        "import tensorflow as tf\n",
        "import gensim.downloader as api\n",
        "import tensorflow_datasets as tfds\n",
        "nltk.download('stopwords')\n",
        "import re\n",
        "import os\n",
        "\n",
        "from collections import Counter\n",
        "from nltk.corpus import stopwords\n",
        "from tensorflow.keras.preprocessing.text import Tokenizer\n",
        "from tensorflow.keras.preprocessing.sequence import skipgrams\n"
      ]
    },
    {
      "cell_type": "markdown",
      "metadata": {
        "id": "3pwuegqx-JWf",
        "papermill": {
          "duration": 0.023154,
          "end_time": "2020-10-10T13:12:49.521385",
          "exception": false,
          "start_time": "2020-10-10T13:12:49.498231",
          "status": "completed"
        },
        "tags": []
      },
      "source": [
        "### Downloading Dataset\n",
        "We're going to use text8 dataset. Text8 is first 100,000,000 bytes of plain text from Wikipedia. It's mainly used for testing purposes."
      ]
    },
    {
      "cell_type": "code",
      "execution_count": null,
      "metadata": {
        "execution": {
          "iopub.execute_input": "2020-10-10T13:12:49.580623Z",
          "iopub.status.busy": "2020-10-10T13:12:49.579765Z",
          "iopub.status.idle": "2020-10-10T13:13:03.778660Z",
          "shell.execute_reply": "2020-10-10T13:13:03.779347Z"
        },
        "id": "XG-FjuVEFLGW",
        "papermill": {
          "duration": 14.234694,
          "end_time": "2020-10-10T13:13:03.779495",
          "exception": false,
          "start_time": "2020-10-10T13:12:49.544801",
          "status": "completed"
        },
        "tags": [],
        "colab": {
          "base_uri": "https://localhost:8080/"
        },
        "outputId": "603b5d1c-005e-4b98-d345-3da09ebd3201"
      },
      "outputs": [
        {
          "output_type": "stream",
          "name": "stdout",
          "text": [
            "[==================================================] 100.0% 31.6/31.6MB downloaded\n"
          ]
        }
      ],
      "source": [
        "def load_data():\n",
        "  text8_zip_file_path = api.load('text8', return_path=True)\n",
        "  with gzip.open(text8_zip_file_path, 'rb') as file:\n",
        "    file_content = file.read()\n",
        "  wiki = file_content.decode()\n",
        "  return wiki\n",
        "\n",
        "wiki = load_data()"
      ]
    },
    {
      "cell_type": "markdown",
      "metadata": {
        "id": "QYBT_-Vy_af4",
        "papermill": {
          "duration": 1.449897,
          "end_time": "2020-10-10T13:13:06.611079",
          "exception": false,
          "start_time": "2020-10-10T13:13:05.161182",
          "status": "completed"
        },
        "tags": []
      },
      "source": [
        "### Preprocessing data\n",
        "\n",
        "**Stopwords removal** - Begin by removing stopwords from the dataset, as they provide little to no value in learning word embeddings. Ensure your preprocessing pipeline filters out commonly used words such as \"the,\" \"and,\" or \"of\" that do not contribute to meaningful semantic relationships.\n",
        "\n",
        "---\n",
        "\n",
        "**Subsampling words** - In a large corpora, most frequent words can easily occur hundreds of millions of times and such words usually don't bring much information to the table.  It is of essential importance to cut down on their frequencies to mitigate the negative impact it adds. For example, co-occurrences of \"English\" and \"Spanish\" benefit much more than co-occurrences of \"English\" and \"the\" or \"Spanish\" and \"of\". To counter the imbalance between rare and frequent words Mikolov et. al came up with the following heuristic formula for determining probability to drop a particular word:\n",
        "\n",
        "![formula.png](data:image/png;base64,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)\n",
        "\n",
        "where t is threshold value (heuristically set to 1e-5) and f(w) is frequency of the word.\n",
        "\n",
        "Implement a subsampling mechanism to handle overly frequent words in the corpus. Use the heuristic formula provided by Mikolov et al. to calculate the probability of dropping a word based on its frequency. This step ensures the corpus maintains a balance between rare and frequent words, improving the quality of word co-occurrence relationships.\n",
        "\n",
        "---\n",
        "\n",
        "**Filtering words** - Filter out words that occur only once in the dataset, as they lack sufficient context to be represented effectively. Retain only those words that appear at least five times in the corpus to minimize noise and enhance the overall quality of the embeddings.\n"
      ]
    },
    {
      "cell_type": "code",
      "execution_count": null,
      "metadata": {
        "execution": {
          "iopub.execute_input": "2020-10-10T13:13:09.551725Z",
          "iopub.status.busy": "2020-10-10T13:13:09.441732Z",
          "iopub.status.idle": "2020-10-10T13:13:11.452524Z",
          "shell.execute_reply": "2020-10-10T13:13:11.451989Z"
        },
        "id": "wp50T2OqA-7L",
        "papermill": {
          "duration": 3.4315,
          "end_time": "2020-10-10T13:13:11.452631",
          "exception": false,
          "start_time": "2020-10-10T13:13:08.021131",
          "status": "completed"
        },
        "tags": []
      },
      "outputs": [],
      "source": [
        "def preprocess_text(text, threshold=1e-5):\n",
        "\n",
        "    text = re.sub(r'[^\\w\\s]', ' ', text)\n",
        "\n",
        "    text = text.lower().strip()\n",
        "    words = text.split()\n",
        "\n",
        "\n",
        "    stop_words = set(stopwords.words('english'))\n",
        "    words = [w for w in words if w not in stop_words]\n",
        "\n",
        "    word_counts = Counter(words)\n",
        "    words = [w for w in words if word_counts[w] >= 5]\n",
        "\n",
        "    word_counts = Counter(words)\n",
        "\n",
        "    total_count = sum(word_counts.values())\n",
        "\n",
        "    def subsampling_probability(word):\n",
        "        f = word_counts[word] / total_count\n",
        "        p_drop = 1 - (threshold / f)**0.5\n",
        "        return p_drop\n",
        "\n",
        "    processed_words = []\n",
        "    for w in words:\n",
        "        if random.random() > subsampling_probability(w):\n",
        "            continue\n",
        "        processed_words.append(w)\n",
        "\n",
        "    final_word_counts = Counter(processed_words)\n",
        "\n",
        "    return processed_words, final_word_counts\n"
      ]
    },
    {
      "cell_type": "markdown",
      "metadata": {
        "id": "4260B2ZFJ_EA",
        "papermill": {
          "duration": 1.777391,
          "end_time": "2020-10-10T13:13:14.603396",
          "exception": false,
          "start_time": "2020-10-10T13:13:12.826005",
          "status": "completed"
        },
        "tags": []
      },
      "source": [
        "It's always a good idea to take a quick look at preprocessed sample before heading further - you might observe few things that if handled can enrich or correct your data. More like a validation step this."
      ]
    },
    {
      "cell_type": "code",
      "execution_count": null,
      "metadata": {
        "execution": {
          "iopub.execute_input": "2020-10-10T13:13:17.665608Z",
          "iopub.status.busy": "2020-10-10T13:13:17.664211Z",
          "iopub.status.idle": "2020-10-10T13:13:17.667915Z",
          "shell.execute_reply": "2020-10-10T13:13:17.668396Z"
        },
        "id": "_oNvdt-v1dw0",
        "papermill": {
          "duration": 1.689149,
          "end_time": "2020-10-10T13:13:17.668521",
          "exception": false,
          "start_time": "2020-10-10T13:13:15.979372",
          "status": "completed"
        },
        "tags": [],
        "colab": {
          "base_uri": "https://localhost:8080/"
        },
        "outputId": "1c9cb4a8-0798-40f2-8df4-79dd6e9f6cc0"
      },
      "outputs": [
        {
          "output_type": "stream",
          "name": "stdout",
          "text": [
            "['feminist', 'variant', 'green', 'thought', 'often', 'associated', 'early', 'two', 'zero', 'th', 'century', 'authors', 'goldman', 'de', 'although', 'even', 'early', 'first', 'wave', 'feminist', 'mary', 'held', 'proto', 'anarchist', 'views', 'william', 'often', 'considered', 'noted', 'de', 'though', 'opposed', 'state', 'opposing', 'de', 'explains', 'miss', 'communist', 'wishes', 'wish', 'assert', 'make', 'war', 'upon', 'authority', 'right', 'property', 'true', 'right', 'proper']\n"
          ]
        }
      ],
      "source": [
        "processed_words, final_word_counts = preprocess_text(wiki)\n",
        "\n",
        "print(processed_words[1500:1550])\n"
      ]
    },
    {
      "cell_type": "markdown",
      "metadata": {
        "id": "lCkFtaa_KrTb",
        "papermill": {
          "duration": 1.426874,
          "end_time": "2020-10-10T13:13:20.673211",
          "exception": false,
          "start_time": "2020-10-10T13:13:19.246337",
          "status": "completed"
        },
        "tags": []
      },
      "source": [
        "### Hyperparameters\n",
        "Setting a few hyperparamters required for gnerating batches and for deciding the size of word embeddings.\n",
        "\n"
      ]
    },
    {
      "cell_type": "code",
      "execution_count": null,
      "metadata": {
        "execution": {
          "iopub.execute_input": "2020-10-10T13:13:23.483005Z",
          "iopub.status.busy": "2020-10-10T13:13:23.482371Z",
          "iopub.status.idle": "2020-10-10T13:13:23.486821Z",
          "shell.execute_reply": "2020-10-10T13:13:23.486338Z"
        },
        "id": "mJLzBkSIKoMx",
        "papermill": {
          "duration": 1.447402,
          "end_time": "2020-10-10T13:13:23.486929",
          "exception": false,
          "start_time": "2020-10-10T13:13:22.039527",
          "status": "completed"
        },
        "tags": []
      },
      "outputs": [],
      "source": [
        "EMBEDDING_DIM = 128\n",
        "BUFFER_SIZE = 10000\n",
        "BATCH_SIZE = 128\n",
        "EPOCHS = 10\n",
        "SEED = 42"
      ]
    },
    {
      "cell_type": "markdown",
      "metadata": {
        "id": "0oO7N0ZsLofI",
        "papermill": {
          "duration": 1.481198,
          "end_time": "2020-10-10T13:13:26.663213",
          "exception": false,
          "start_time": "2020-10-10T13:13:25.182015",
          "status": "completed"
        },
        "tags": []
      },
      "source": [
        "### Preparing TensorFlow Dataset using Skipgrams\n",
        "\n",
        "**Generating Skipgrams**\n",
        "\n",
        "Tokenize your preprocessed textual data and convert the words into their corresponding vectorized tokens. Then, use the `skipgrams` function provided by Keras to generate (word, context) pairs. Ensure the following steps are completed:\n",
        "\n",
        "- Generate positive samples: (word, word in the same window), with label 1.  \n",
        "- Generate negative samples: (word, random word from the vocabulary), with label 0.  \n",
        "\n",
        "Refer to Mikolov et al.'s paper, [Efficient Estimation of Word Representations in Vector Space](https://arxiv.org/pdf/1301.3781v3.pdf), for more details on Skipgrams.\n",
        "\n",
        "---\n",
        "\n",
        "**Negative Sampling**\n",
        "\n",
        "For each input word, implement the negative sampling approach to optimize the training process. Transform the problem of predicting context words into independent binary classification tasks. For every (target, context) pair, generate random negative (target, ~context) samples. This step will reduce computational complexity and make training more efficient.\n"
      ]
    },
    {
      "cell_type": "code",
      "source": [
        "word_counter = Counter(processed_words)\n",
        "filtered_words = [w for w in processed_words if word_counter[w] >= 10]\n",
        "\n",
        "print(f\"Original corpus size: {len(processed_words)}\")\n",
        "print(f\"Filtered corpus size (>=5 freq): {len(filtered_words)}\")\n"
      ],
      "metadata": {
        "colab": {
          "base_uri": "https://localhost:8080/"
        },
        "id": "BDXAFl9E57c3",
        "outputId": "a5bb639e-bf36-468a-9f08-91bb49239823"
      },
      "execution_count": null,
      "outputs": [
        {
          "output_type": "stream",
          "name": "stdout",
          "text": [
            "Original corpus size: 6793964\n",
            "Filtered corpus size (>=5 freq): 6788797\n"
          ]
        }
      ]
    },
    {
      "cell_type": "code",
      "source": [
        "tokenizer = Tokenizer()\n",
        "tokenizer.fit_on_texts(filtered_words)\n",
        "word_index = tokenizer.word_index\n",
        "vocab_size = len(word_index) + 1\n",
        "\n",
        "print(f\"Vocabulary size (filtered): {vocab_size}\")"
      ],
      "metadata": {
        "colab": {
          "base_uri": "https://localhost:8080/"
        },
        "id": "Mee7pgus6FzR",
        "outputId": "4a11d35f-b8a5-4de1-f257-af4c5234a2c0"
      },
      "execution_count": null,
      "outputs": [
        {
          "output_type": "stream",
          "name": "stdout",
          "text": [
            "Vocabulary size (filtered): 9940\n"
          ]
        }
      ]
    },
    {
      "cell_type": "code",
      "source": [
        "sequences = tokenizer.texts_to_sequences([filtered_words])[0]"
      ],
      "metadata": {
        "id": "AWxb8QaW6YgX"
      },
      "execution_count": null,
      "outputs": []
    },
    {
      "cell_type": "code",
      "source": [
        "def skipgram_generator(\n",
        "    seq,\n",
        "    vocab_size,\n",
        "    chunk_size=50_000,\n",
        "    window_size=2,\n",
        "    negative_samples=0.5,\n",
        "    seed=None\n",
        "):\n",
        "\n",
        "    i = 0\n",
        "    while i < len(seq):\n",
        "        chunk = seq[i : i + chunk_size]\n",
        "        i += chunk_size\n",
        "\n",
        "        sg_pairs, sg_labels = skipgrams(\n",
        "            chunk,\n",
        "            vocabulary_size=vocab_size,\n",
        "            window_size=window_size,\n",
        "            negative_samples=negative_samples,\n",
        "            seed=seed\n",
        "        )\n",
        "\n",
        "        for (target, context), label in zip(sg_pairs, sg_labels):\n",
        "            yield (target, context), label\n"
      ],
      "metadata": {
        "id": "bsHqNCy26cbz"
      },
      "execution_count": null,
      "outputs": []
    },
    {
      "cell_type": "code",
      "source": [
        "dataset = tf.data.Dataset.from_generator(\n",
        "    lambda: skipgram_generator(\n",
        "        sequences,\n",
        "        vocab_size=vocab_size,\n",
        "        chunk_size=50_000,\n",
        "        window_size=2,\n",
        "        negative_samples=0.5,\n",
        "        seed=SEED\n",
        "    ),\n",
        "    output_types=((tf.int32, tf.int32), tf.int32),\n",
        "    output_shapes=(((), ()), ())\n",
        ")"
      ],
      "metadata": {
        "id": "wV508jMiLHNC"
      },
      "execution_count": null,
      "outputs": []
    },
    {
      "cell_type": "code",
      "source": [
        "dataset = dataset.cache()\n"
      ],
      "metadata": {
        "id": "snPu-OLne_C_"
      },
      "execution_count": null,
      "outputs": []
    },
    {
      "cell_type": "code",
      "source": [
        "num_samples_to_keep = 1000000 #I got MLE so I train my mode with subset of data\n",
        "dataset = dataset.take(num_samples_to_keep)\n",
        "\n",
        "dataset_size = sum(1 for _ in dataset)\n",
        "\n",
        "train_size = int(0.8 * dataset_size)\n",
        "\n",
        "train_dataset = dataset.take(train_size)\n",
        "test_dataset = dataset.skip(train_size)"
      ],
      "metadata": {
        "id": "qLQ2VdfRLKQv"
      },
      "execution_count": null,
      "outputs": []
    },
    {
      "cell_type": "markdown",
      "source": [],
      "metadata": {
        "id": "MwdjfhplzYPh"
      }
    },
    {
      "cell_type": "code",
      "source": [
        "train_dataset = train_dataset.shuffle(BUFFER_SIZE, seed=SEED).batch(BATCH_SIZE, drop_remainder=True)\n",
        "test_dataset = test_dataset.batch(BATCH_SIZE, drop_remainder=True)\n"
      ],
      "metadata": {
        "id": "_MhCqyrX0Rqb"
      },
      "execution_count": null,
      "outputs": []
    },
    {
      "cell_type": "code",
      "source": [
        "train_batches = sum(1 for _ in train_dataset)\n",
        "test_batches = sum(1 for _ in test_dataset)\n",
        "\n",
        "print(f\"(train, test) batches: {train_batches}, {test_batches}\")"
      ],
      "metadata": {
        "colab": {
          "base_uri": "https://localhost:8080/"
        },
        "id": "mUKC2QDtL020",
        "outputId": "d76d2354-96de-4bab-9151-4876c1b0c68a"
      },
      "execution_count": null,
      "outputs": [
        {
          "output_type": "stream",
          "name": "stdout",
          "text": [
            "(train, test) batches: 6250, 1562\n"
          ]
        }
      ]
    },
    {
      "cell_type": "markdown",
      "metadata": {
        "id": "VUatOx50OXF1",
        "papermill": {
          "duration": 1.350656,
          "end_time": "2020-10-10T13:14:15.692486",
          "exception": false,
          "start_time": "2020-10-10T13:14:14.341830",
          "status": "completed"
        },
        "tags": []
      },
      "source": [
        "### Building the Model\n",
        "\n",
        "Use the model subclassing method to build your model. While Sequential and Functional APIs are generally more suitable for most use cases, model subclassing allows you to create the model in an object-oriented way. Follow these steps:\n",
        "\n",
        "1. Define a custom model class by inheriting from `tf.keras.Model`.\n",
        "2. Implement the `__init__` method to define the layers of your model.\n",
        "3. Override the `call` method to define the forward pass of your model.\n",
        "4. Ensure that the model includes embedding layers, a skip-gram architecture, and any other necessary components for training.\n"
      ]
    },
    {
      "cell_type": "code",
      "execution_count": null,
      "metadata": {
        "execution": {
          "iopub.execute_input": "2020-10-10T13:14:18.975942Z",
          "iopub.status.busy": "2020-10-10T13:14:18.969008Z",
          "iopub.status.idle": "2020-10-10T13:14:19.276913Z",
          "shell.execute_reply": "2020-10-10T13:14:19.276347Z"
        },
        "id": "6gLxFZ9Eu9Tw",
        "papermill": {
          "duration": 1.935377,
          "end_time": "2020-10-10T13:14:19.277030",
          "exception": false,
          "start_time": "2020-10-10T13:14:17.341653",
          "status": "completed"
        },
        "tags": []
      },
      "outputs": [],
      "source": [
        "import tensorflow as tf\n",
        "\n",
        "class SkipGramModel(tf.keras.Model):\n",
        "\n",
        "\n",
        "    def __init__(self, vocab_size, embedding_dim):\n",
        "        super(SkipGramModel, self).__init__()\n",
        "\n",
        "\n",
        "        self.target_embedding = tf.keras.layers.Embedding(\n",
        "            input_dim=vocab_size,\n",
        "            output_dim=embedding_dim,\n",
        "            input_length=1,\n",
        "            name='target_embedding'\n",
        "        )\n",
        "\n",
        "\n",
        "        self.context_embedding = tf.keras.layers.Embedding(\n",
        "            input_dim=vocab_size,\n",
        "            output_dim=embedding_dim,\n",
        "            input_length=1,\n",
        "            name='context_embedding'\n",
        "        )\n",
        "\n",
        "    def call(self, inputs):\n",
        "\n",
        "        target_words, context_words = inputs\n",
        "\n",
        "\n",
        "        target_emb = self.target_embedding(target_words)\n",
        "        context_emb = self.context_embedding(context_words)\n",
        "\n",
        "\n",
        "        dot_product = tf.reduce_sum(target_emb * context_emb, axis=-1)\n",
        "\n",
        "        return dot_product\n"
      ]
    },
    {
      "cell_type": "code",
      "source": [
        "vocab_size = 5000\n",
        "embedding_dim = 128\n",
        "\n",
        "skipgram_model = SkipGramModel(vocab_size=vocab_size, embedding_dim=embedding_dim)\n",
        "\n",
        "dummy_targets = tf.constant([[1], [2], [3]])\n",
        "dummy_contexts = tf.constant([[2], [3], [1]])\n",
        "\n",
        "outputs = skipgram_model((dummy_targets, dummy_contexts))\n",
        "print(\"Outputs shape:\", outputs.shape)\n",
        "print(\"Outputs (dot products):\", outputs.numpy())"
      ],
      "metadata": {
        "colab": {
          "base_uri": "https://localhost:8080/"
        },
        "id": "UMcg_EKlVOrx",
        "outputId": "12c539cf-11c8-4d84-afe0-6f7a769b9969"
      },
      "execution_count": null,
      "outputs": [
        {
          "output_type": "stream",
          "name": "stderr",
          "text": [
            "/usr/local/lib/python3.10/dist-packages/keras/src/layers/core/embedding.py:90: UserWarning: Argument `input_length` is deprecated. Just remove it.\n",
            "  warnings.warn(\n"
          ]
        },
        {
          "output_type": "stream",
          "name": "stdout",
          "text": [
            "Outputs shape: (3, 1)\n",
            "Outputs (dot products): [[-0.01332022]\n",
            " [ 0.00302748]\n",
            " [-0.00533868]]\n"
          ]
        }
      ]
    },
    {
      "cell_type": "markdown",
      "metadata": {
        "id": "RN3SV3zv0pXG",
        "papermill": {
          "duration": 1.56129,
          "end_time": "2020-10-10T13:14:22.236946",
          "exception": false,
          "start_time": "2020-10-10T13:14:20.675656",
          "status": "completed"
        },
        "tags": []
      },
      "source": [
        "### Loss function, Metrics and Optimizers"
      ]
    },
    {
      "cell_type": "code",
      "execution_count": null,
      "metadata": {
        "execution": {
          "iopub.execute_input": "2020-10-10T13:14:25.048870Z",
          "iopub.status.busy": "2020-10-10T13:14:25.048241Z",
          "iopub.status.idle": "2020-10-10T13:14:25.068088Z",
          "shell.execute_reply": "2020-10-10T13:14:25.067312Z"
        },
        "id": "ENLrMWOtpixA",
        "papermill": {
          "duration": 1.420264,
          "end_time": "2020-10-10T13:14:25.068193",
          "exception": false,
          "start_time": "2020-10-10T13:14:23.647929",
          "status": "completed"
        },
        "tags": []
      },
      "outputs": [],
      "source": [
        "optimiser = tf.keras.optimizers.Adam(learning_rate=1e-3)\n",
        "\n",
        "loss_fn = tf.keras.losses.BinaryCrossentropy(from_logits=True)\n",
        "\n",
        "train_acc_metric = tf.keras.metrics.BinaryAccuracy(threshold=0.0)\n",
        "val_acc_metric = tf.keras.metrics.BinaryAccuracy(threshold=0.0)\n"
      ]
    },
    {
      "cell_type": "markdown",
      "metadata": {
        "id": "7eyQ_o1EWuJA",
        "papermill": {
          "duration": 1.384257,
          "end_time": "2020-10-10T13:14:27.862984",
          "exception": false,
          "start_time": "2020-10-10T13:14:26.478727",
          "status": "completed"
        },
        "tags": []
      },
      "source": [
        "### Training the Model\n",
        "\n",
        "Implement custom training for learning word embeddings to gain finer control over optimization and training tasks. Follow these steps:\n",
        "\n",
        "1. Define a custom training loop that includes forward propagation, loss computation, and backpropagation.\n",
        "2. Use the optimizer of your choice to update the model's weights based on the computed gradients.\n",
        "3. Implement batching for efficient data processing during training.\n",
        "4. Monitor the loss during each epoch to track the model's performance.\n",
        "5. Save the trained embeddings for later use once the training is complete."
      ]
    },
    {
      "source": [
        "from tqdm import tqdm\n",
        "\n",
        "@tf.function\n",
        "def train_step(inputs, labels, model, loss_fn, optimizer, train_acc_metric):\n",
        "    with tf.GradientTape() as tape:\n",
        "        logits = model(inputs, training=True)\n",
        "        loss_value = loss_fn(labels, logits)\n",
        "    grads = tape.gradient(loss_value, model.trainable_variables)\n",
        "    optimizer.apply_gradients(zip(grads, model.trainable_variables))\n",
        "    train_acc_metric.update_state(labels, logits)\n",
        "    return loss_value\n",
        "\n",
        "@tf.function\n",
        "def test_step(inputs, labels, model, loss_fn, val_acc_metric):\n",
        "    logits = model(inputs, training=False)\n",
        "    val_loss = loss_fn(labels, logits)\n",
        "    val_acc_metric.update_state(labels, logits)\n",
        "    return val_loss\n",
        "\n",
        "def custom_training_loop(epochs=5):\n",
        "    for epoch in range(epochs):\n",
        "        epoch_start_time = time.time()\n",
        "        print(f\"Starting epoch: {epoch}\")\n",
        "\n",
        "        train_loss_sum = 0.0\n",
        "        train_steps = 0\n",
        "        with tqdm(total=train_batches, desc=f\"Epoch {epoch + 1}/{epochs} - Training\", unit=\"batch\") as pbar:\n",
        "            for (x_batch_train, y_batch_train) in train_dataset:\n",
        "                loss_value = train_step(x_batch_train, y_batch_train, skipgram_model, loss_fn, optimiser, train_acc_metric)\n",
        "                train_loss_sum += loss_value.numpy()\n",
        "                train_steps += 1\n",
        "                pbar.update(1)\n",
        "        train_acc = train_acc_metric.result().numpy()\n",
        "        train_loss_avg = train_loss_sum / train_steps\n",
        "        train_acc_metric.reset_state()\n",
        "\n",
        "        val_loss_sum = 0.0\n",
        "        val_steps = 0\n",
        "        with tqdm(total=test_batches, desc=f\"Epoch {epoch + 1}/{epochs} - Validation\", unit=\"batch\") as pbar:\n",
        "            for (x_batch_val, y_batch_val) in test_dataset:\n",
        "                val_loss = test_step(x_batch_val, y_batch_val, skipgram_model, loss_fn, val_acc_metric)\n",
        "                val_loss_sum += val_loss.numpy()\n",
        "                val_steps += 1\n",
        "                pbar.update(1)\n",
        "\n",
        "        val_acc = val_acc_metric.result().numpy()\n",
        "        val_loss_avg = val_loss_sum / val_steps\n",
        "        val_acc_metric.reset_state()\n",
        "\n",
        "        epoch_time = time.time() - epoch_start_time\n",
        "        print(f\"Training acc over epoch: {train_acc:.4f}\")\n",
        "        print(f\"Cummulative loss: {train_loss_avg:.4f}\")\n",
        "        print(f\"Validation acc over epoch: {val_acc:.4f}\")\n",
        "        print(f\"Cummulative test loss: {val_loss_avg:.4f}\")\n",
        "        print(f\"Time taken: {epoch_time:.2f}s\")\n",
        "\n",
        "custom_training_loop(epochs=5)"
      ],
      "cell_type": "code",
      "metadata": {
        "colab": {
          "base_uri": "https://localhost:8080/"
        },
        "id": "DCctMmFFX3AU",
        "outputId": "83b96471-50c4-4b2c-8b8f-e8744a76bc5c"
      },
      "execution_count": null,
      "outputs": [
        {
          "output_type": "stream",
          "name": "stdout",
          "text": [
            "Starting epoch: 0\n"
          ]
        },
        {
          "output_type": "stream",
          "name": "stderr",
          "text": [
            "Epoch 1/5 - Training: 100%|██████████| 6250/6250 [04:21<00:00, 23.86batch/s]\n",
            "Epoch 1/5 - Validation: 100%|██████████| 1562/1562 [04:19<00:00,  6.02batch/s]\n"
          ]
        },
        {
          "output_type": "stream",
          "name": "stdout",
          "text": [
            "Training acc over epoch: 0.7447\n",
            "Cummulative loss: 0.4676\n",
            "Validation acc over epoch: 0.7496\n",
            "Cummulative test loss: 0.4579\n",
            "Time taken: 521.52s\n",
            "Starting epoch: 1\n"
          ]
        },
        {
          "output_type": "stream",
          "name": "stderr",
          "text": [
            "Epoch 2/5 - Training: 100%|██████████| 6250/6250 [04:21<00:00, 23.86batch/s]\n",
            "Epoch 2/5 - Validation: 100%|██████████| 1562/1562 [04:12<00:00,  6.20batch/s]\n"
          ]
        },
        {
          "output_type": "stream",
          "name": "stdout",
          "text": [
            "Training acc over epoch: 0.7760\n",
            "Cummulative loss: 0.4149\n",
            "Validation acc over epoch: 0.7525\n",
            "Cummulative test loss: 0.4618\n",
            "Time taken: 514.04s\n",
            "Starting epoch: 2\n"
          ]
        },
        {
          "output_type": "stream",
          "name": "stderr",
          "text": [
            "Epoch 3/5 - Training: 100%|██████████| 6250/6250 [03:43<00:00, 28.01batch/s]\n",
            "Epoch 3/5 - Validation: 100%|██████████| 1562/1562 [04:08<00:00,  6.28batch/s]\n"
          ]
        },
        {
          "output_type": "stream",
          "name": "stdout",
          "text": [
            "Training acc over epoch: 0.8033\n",
            "Cummulative loss: 0.3707\n",
            "Validation acc over epoch: 0.7520\n",
            "Cummulative test loss: 0.4689\n",
            "Time taken: 471.95s\n",
            "Starting epoch: 3\n"
          ]
        },
        {
          "output_type": "stream",
          "name": "stderr",
          "text": [
            "Epoch 4/5 - Training: 100%|██████████| 6250/6250 [03:43<00:00, 28.02batch/s]\n",
            "Epoch 4/5 - Validation: 100%|██████████| 1562/1562 [04:06<00:00,  6.33batch/s]\n"
          ]
        },
        {
          "output_type": "stream",
          "name": "stdout",
          "text": [
            "Training acc over epoch: 0.8426\n",
            "Cummulative loss: 0.3067\n",
            "Validation acc over epoch: 0.7471\n",
            "Cummulative test loss: 0.4885\n",
            "Time taken: 469.88s\n",
            "Starting epoch: 4\n"
          ]
        },
        {
          "output_type": "stream",
          "name": "stderr",
          "text": [
            "Epoch 5/5 - Training: 100%|██████████| 6250/6250 [03:40<00:00, 28.32batch/s]\n",
            "Epoch 5/5 - Validation: 100%|██████████| 1562/1562 [04:13<00:00,  6.15batch/s]"
          ]
        },
        {
          "output_type": "stream",
          "name": "stdout",
          "text": [
            "Training acc over epoch: 0.8749\n",
            "Cummulative loss: 0.2459\n",
            "Validation acc over epoch: 0.7414\n",
            "Cummulative test loss: 0.5211\n",
            "Time taken: 474.62s\n"
          ]
        },
        {
          "output_type": "stream",
          "name": "stderr",
          "text": [
            "\n"
          ]
        }
      ]
    },
    {
      "cell_type": "code",
      "execution_count": null,
      "metadata": {
        "execution": {
          "iopub.execute_input": "2020-10-10T13:36:48.935958Z",
          "iopub.status.busy": "2020-10-10T13:36:48.935357Z",
          "iopub.status.idle": "2020-10-10T13:36:48.973240Z",
          "shell.execute_reply": "2020-10-10T13:36:48.972739Z"
        },
        "id": "V2iWMNGQahsc",
        "papermill": {
          "duration": 1.409531,
          "end_time": "2020-10-10T13:36:48.973383",
          "exception": false,
          "start_time": "2020-10-10T13:36:47.563852",
          "status": "completed"
        },
        "tags": [],
        "colab": {
          "base_uri": "https://localhost:8080/"
        },
        "outputId": "b49e644f-c1b0-4832-cbf5-177b2c739e60"
      },
      "outputs": [
        {
          "output_type": "stream",
          "name": "stdout",
          "text": [
            "Checkpoint saved at: ./checkpoints_skipgram/ckpt-1\n"
          ]
        }
      ],
      "source": [
        "checkpoint_directory = \"./checkpoints_skipgram\"\n",
        "checkpoint_prefix = os.path.join(checkpoint_directory, \"ckpt\")\n",
        "\n",
        "checkpoint = tf.train.Checkpoint(model=skipgram_model, optimizer=optimiser)\n",
        "\n",
        "manager = tf.train.CheckpointManager(\n",
        "    checkpoint, directory=checkpoint_directory, max_to_keep=3\n",
        ")\n",
        "\n",
        "save_path = manager.save()\n",
        "print(f\"Checkpoint saved at: {save_path}\")\n",
        "\n",
        "target_embedding_weights = skipgram_model.target_embedding.get_weights()[0]\n",
        "context_embedding_weights = skipgram_model.context_embedding.get_weights()[0]\n"
      ]
    },
    {
      "cell_type": "markdown",
      "metadata": {
        "id": "bb7Wx_rzZOOm",
        "papermill": {
          "duration": 1.591393,
          "end_time": "2020-10-10T13:36:51.938622",
          "exception": false,
          "start_time": "2020-10-10T13:36:50.347229",
          "status": "completed"
        },
        "tags": []
      },
      "source": [
        "### Word Embeddings Projector\n",
        "\n",
        "Follow these steps to visualize the learned word embeddings using TensorFlow's Embedding Projector:\n",
        "\n",
        "1. Extract the weights of the embedding layer from your trained model.\n",
        "2. Save the weights into two files:\n",
        "   - `vecs.tsv`: This file will store the actual vector representations of words.\n",
        "   - `meta.tsv`: This file will store the associated metadata (e.g., word labels) for visualization.\n",
        "3. Go to [TensorFlow Embedding Projector](http://projector.tensorflow.org/).\n",
        "4. Upload the `vecs.tsv` and `meta.tsv` files created in the previous step.\n",
        "5. Explore the visualizations provided by TensorFlow's Embedding Projector.\n",
        "<font color=#ffb578>\n",
        "6.Save the visualization of a word that best demonstrate the quality of your embeddings as an image and store it near the notebook.\n",
        "7. Compress the folder into a `.zip` file and submit it as part of your work.\n",
        "\n",
        "</font>\n"
      ]
    },
    {
      "cell_type": "code",
      "execution_count": null,
      "metadata": {
        "execution": {
          "iopub.execute_input": "2020-10-10T13:36:54.675412Z",
          "iopub.status.busy": "2020-10-10T13:36:54.674309Z",
          "iopub.status.idle": "2020-10-10T13:36:56.018539Z",
          "shell.execute_reply": "2020-10-10T13:36:56.017942Z"
        },
        "id": "fGpXtNRS-V_u",
        "papermill": {
          "duration": 2.703171,
          "end_time": "2020-10-10T13:36:56.018656",
          "exception": false,
          "start_time": "2020-10-10T13:36:53.315485",
          "status": "completed"
        },
        "tags": [],
        "outputId": "cb581f62-8103-4566-b1df-d671ece5d19a",
        "colab": {
          "base_uri": "https://localhost:8080/"
        }
      },
      "outputs": [
        {
          "output_type": "stream",
          "name": "stdout",
          "text": [
            "Embedding matrix shape: (5000, 128)\n",
            "Embedding vectors saved to: ./embedding_projector/vecs.tsv\n",
            "Metadata saved to: ./embedding_projector/meta.tsv\n"
          ]
        }
      ],
      "source": [
        "import os\n",
        "\n",
        "embedding_layer = skipgram_model.target_embedding\n",
        "embedding_weights = embedding_layer.get_weights()[0]\n",
        "print(\"Embedding matrix shape:\", embedding_weights.shape)\n",
        "\n",
        "output_dir = \"./embedding_projector\"\n",
        "os.makedirs(output_dir, exist_ok=True)\n",
        "\n",
        "vectors_path = os.path.join(output_dir, \"vecs.tsv\")\n",
        "metadata_path = os.path.join(output_dir, \"meta.tsv\")\n",
        "\n",
        "index_to_word = {idx: word for word, idx in tokenizer.word_index.items()}\n",
        "\n",
        "with open(vectors_path, 'w', encoding='utf-8') as out_v, \\\n",
        "     open(metadata_path, 'w', encoding='utf-8') as out_m:\n",
        "\n",
        "    max_id = embedding_weights.shape[0]\n",
        "\n",
        "    for idx in range(1, max_id + 1):\n",
        "        if idx not in index_to_word:\n",
        "            continue\n",
        "        word = index_to_word[idx]\n",
        "\n",
        "        embedding_vector = embedding_weights[idx - 1]\n",
        "\n",
        "        out_m.write(f\"{word}\\n\")\n",
        "\n",
        "        vector_str = \"\\t\".join(str(x) for x in embedding_vector)\n",
        "        out_v.write(f\"{vector_str}\\n\")\n",
        "\n",
        "print(\"Embedding vectors saved to:\", vectors_path)\n",
        "print(\"Metadata saved to:\", metadata_path)\n"
      ]
    },
    {
      "cell_type": "code",
      "source": [],
      "metadata": {
        "id": "ROLHgga9Etyh"
      },
      "execution_count": null,
      "outputs": []
    }
  ],
  "metadata": {
    "kernelspec": {
      "display_name": "Python 3",
      "name": "python3"
    },
    "language_info": {
      "codemirror_mode": {
        "name": "ipython",
        "version": 3
      },
      "file_extension": ".py",
      "mimetype": "text/x-python",
      "name": "python",
      "nbconvert_exporter": "python",
      "pygments_lexer": "ipython3",
      "version": "3.7.6"
    },
    "papermill": {
      "duration": 1467.163823,
      "end_time": "2020-10-10T13:37:04.319726",
      "environment_variables": {},
      "exception": null,
      "input_path": "__notebook__.ipynb",
      "output_path": "__notebook__.ipynb",
      "parameters": {},
      "start_time": "2020-10-10T13:12:37.155903",
      "version": "2.1.0"
    },
    "colab": {
      "provenance": [],
      "gpuType": "T4"
    },
    "accelerator": "GPU"
  },
  "nbformat": 4,
  "nbformat_minor": 0
}