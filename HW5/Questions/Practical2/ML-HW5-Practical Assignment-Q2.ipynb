{
  "cells": [
    {
      "cell_type": "markdown",
      "metadata": {
        "id": "VivaFsd3Q6cj"
      },
      "source": [
        "<br>\n",
        "<font>\n",
        "<div dir=ltr align=center>\n",
        "<img src=\"https://cdn.freebiesupply.com/logos/large/2x/sharif-logo-png-transparent.png\" width=150 height=150> <br>\n",
        "<font color=0F5298 size=7>\n",
        "    Machine learning <br>\n",
        "<font color=2565AE size=5>\n",
        "    Computer Engineering Department <br>\n",
        "    Fall 2024<br>\n",
        "<font color=3C99D size=5>\n",
        "    Practical Assignment 5 - NLP - Transformer & Bert <br>\n",
        "</div>\n",
        "<div dir=ltr align=center>\n",
        "<font color=0CBCDF size=4>\n",
        "   &#x1F349; Masoud Tahmasbi  &#x1F349;  &#x1F353; Arash Ziyaei &#x1F353;\n",
        "<br>\n",
        "<font color=0CBCDF size=4>\n",
        "   &#x1F335; Amirhossein Akbari  &#x1F335;\n",
        "</div>\n",
        "\n",
        "____"
      ]
    },
    {
      "cell_type": "markdown",
      "metadata": {
        "id": "k15QziPnmC6d"
      },
      "source": [
        "<font color=9999FF size=4>\n",
        "&#x1F388; Full Name :\n",
        "<br>\n",
        "<font color=9999FF size=4>\n",
        "&#x1F388; Student Number :"
      ]
    },
    {
      "cell_type": "markdown",
      "metadata": {
        "id": "IOfpEN2xmbN8"
      },
      "source": [
        "<font color=0080FF size=3>\n",
        "This notebook covers two key topics. First, we implement a transformer model from scratch and apply it to a specific task. Second, we fine-tune the BERT model using LoRA for efficient adaptation to a downstream task.\n",
        "</font>\n",
        "<br>\n",
        "\n",
        "**Note:**\n",
        "<br>\n",
        "<font color=66B2FF size=2>In this notebook, you are free to use any function or model from PyTorch to assist with the implementation. However, TensorFlow is not permitted for this exercise. This ensures consistency and alignment with the tools being focused on.</font>\n",
        "<br>\n",
        "<font color=red size=3>**Run All Cells Before Submission**</font>: <font color=FF99CC size=2>Before saving and submitting your notebook, please ensure you run all cells from start to finish. This practice guarantees that your notebook is self-consistent and can be evaluated correctly by others.</font>"
      ]
    },
    {
      "cell_type": "markdown",
      "metadata": {
        "id": "SpvvM0995ieR"
      },
      "source": [
        "# Section 1: Transformer\n",
        "\n",
        "The transformer architecture consists of two main components: an encoder and a decoder. Each of these components is made up of multiple layers that include self-attention mechanisms and feedforward neural networks. The self-attention mechanism is central to the transformer, as it enables the model to assess the importance of different words in a sentence by considering their relationships with one another.\n",
        "\n",
        "\n",
        "In this assignment, you should design a transformer model from scratch. You are required to implement the Encoder and Decoder components of a Transformer model."
      ]
    },
    {
      "cell_type": "code",
      "execution_count": null,
      "metadata": {
        "id": "dzIob6-Gq7Lw"
      },
      "outputs": [],
      "source": [
        "# Importing libraries\n",
        "\n",
        "# PyTorch\n",
        "import torch\n",
        "import torch.nn as nn\n",
        "from torch.utils.data import Dataset, DataLoader, random_split\n",
        "from torch.utils.tensorboard import SummaryWriter\n",
        "\n",
        "# Math\n",
        "import math\n",
        "\n",
        "# HuggingFace libraries\n",
        "from datasets import load_dataset\n",
        "from tokenizers import Tokenizer\n",
        "from tokenizers.models import WordLevel\n",
        "from tokenizers.trainers import WordLevelTrainer\n",
        "from tokenizers.pre_tokenizers import Whitespace\n",
        "\n",
        "# Pathlib\n",
        "from pathlib import Path\n",
        "\n",
        "# typing\n",
        "from typing import Any\n",
        "\n",
        "# Library for progress bars in loops\n",
        "from tqdm import tqdm\n",
        "\n",
        "# Importing library of warnings\n",
        "import warnings"
      ]
    },
    {
      "cell_type": "markdown",
      "metadata": {
        "id": "-71SfIAJprox"
      },
      "source": [
        "## Part 1: Input Embeddings\n",
        "<p style = \"font-family: 'Helvetica Neue', Arial, sans-serif; text-align: left; font-size: 17.5px\">When we observe the Transformer architecture image above, we can see that the Embeddings represent the first step of both blocks.</p>\n",
        "\n",
        "<p style = \"font-family: 'Helvetica Neue', Arial, sans-serif; text-align: left; font-size: 17.5px\">The <code>InputEmbedding</code> class below is responsible for converting the input text into numerical vectors of <code>d_model</code> dimensions. To prevent that our input embeddings become extremely small, we normalize them by multiplying them by the $\\sqrt{d_{model}}$.</p>\n",
        "\n",
        "<p style = \"font-family: 'Helvetica Neue', Arial, sans-serif; text-align: left; font-size: 17.5px\">In the image below, we can see how the embeddings are created. First, we have a sentence that gets split into tokens—we will explore what tokens are later on—. Then, the token IDs—identification numbers—are transformed into the embeddings, which are high-dimensional vectors.</p>"
      ]
    },
    {
      "cell_type": "code",
      "execution_count": null,
      "metadata": {
        "id": "J-pyrJlu4Nl7"
      },
      "outputs": [],
      "source": [
        "######################  TODO  ########################\n",
        "######################  TODO  ########################\n",
        "\n",
        "# - Define a class `InputEmbeddings` inheriting from `nn.Module`\n",
        "# - Initialize the class with two parameters:\n",
        "#   1. `d_model`: Dimension of the embedding vectors\n",
        "#   2. `vocab_size`: Size of the vocabulary\n",
        "# - Create an embedding layer using `nn.Embedding` to map input indices to dense vectors\n",
        "\n",
        "# - In the `forward` method:\n",
        "#   1. Pass the input `x` through the embedding layer\n",
        "#   2. Scale the embeddings by the square root of `d_model` for variance normalization\n",
        "\n",
        "######################  TODO  ########################\n",
        "######################  TODO  ########################\n"
      ]
    },
    {
      "cell_type": "markdown",
      "metadata": {
        "id": "RWBlo2XorJGW"
      },
      "source": [
        "## Part 2: positional encoding\n",
        "<p style = \"font-family: 'Helvetica Neue', Arial, sans-serif; text-align: left; font-size: 17.5px\">In the original paper, the authors add the positional encodings to the input embeddings at the bottom of both the encoder and decoder blocks so the model can have some information about the relative or absolute position of the tokens in the sequence. The positional encodings have the same dimension $d_{model}$ as the embeddings, so that the two vectors can be summed and we can combine the semantic content from the word embeddings and positional information from the positional encodings.</p>\n",
        "\n",
        "<p style = \"font-family: 'Helvetica Neue', Arial, sans-serif; text-align: left; font-size: 17.5px\">In the <code>PositionalEncoding</code> class below, we will create a matrix of positional encodings <code>pe</code> with dimensions <code>(seq_len, d_model)</code>. We will start by filling it with $0$s.We will then apply the sine function to even indices of the positional encoding matrix while the cosine function is applied to the odd ones.</p>\n",
        "\n",
        "<p style=\"\n",
        "    margin-bottom: 5;\n",
        "    font-size: 22px;\n",
        "    font-weight: 300;\n",
        "    font-family: 'Helvetica Neue', sans-serif;\n",
        "    color: #000000;\n",
        "  \">\n",
        "    \\begin{equation}\n",
        "    \\text{Odd Indices } (2i + 1): \\quad \\text{PE(pos, } 2i + 1) = \\cos\\left(\\frac{\\text{pos}}{10000^{2i / d_{model}}}\\right)\n",
        "    \\end{equation}\n",
        "</p>\n",
        "\n",
        "<p style = \"font-family: 'Helvetica Neue', Arial, sans-serif; text-align: left; font-size: 17.5px\">We apply the sine and cosine functions because it allows the model to determine the position of a word based on the position of other words in the sequence, since for any fixed offset $k$, $PE_{pos + k}$ can be represented as a linear function of $PE_{pos}$. This happens due to the properties of sine and cosine functions, where a shift in the input results in a predictable change in the output.</p>"
      ]
    },
    {
      "cell_type": "code",
      "execution_count": 1,
      "metadata": {
        "id": "4ZG5DhVcrVVm"
      },
      "outputs": [],
      "source": [
        "######################  TODO  ########################\n",
        "######################  TODO  ########################\n",
        "\n",
        "# - Create a `PositionalEncoding` class inheriting from `nn.Module`\n",
        "# - Initialize with `d_model`, `seq_len`, and `dropout`\n",
        "# - Generate a positional encoding matrix using sine and cosine functions\n",
        "# - Register the positional encoding as a non-trainable buffer\n",
        "# - In `forward`, add positional encoding to input and apply dropout\n",
        "\n",
        "######################  TODO  ########################\n",
        "######################  TODO  ########################\n"
      ]
    },
    {
      "cell_type": "markdown",
      "metadata": {
        "id": "T92iydQErh-P"
      },
      "source": [
        "## Part 3: layer normalization\n",
        "<p style = \"font-family: 'Helvetica Neue', Arial, sans-serif; text-align: left; font-size: 17.5px\">When we look at the encoder and decoder blocks, we see several normalization layers called <b><i>Add &amp; Norm</i></b>.</p>\n",
        "\n",
        "<p style = \"font-family: 'Helvetica Neue', Arial, sans-serif; text-align: left; font-size: 17.5px\">The <code>LayerNormalization</code> class below performs layer normalization on the input data. During its forward pass, we compute the mean and standard deviation of the input data. We then normalize the input data by subtracting the mean and dividing by the standard deviation plus a small number called epsilon to avoid any divisions by zero. This process results in a normalized output with a mean 0 and a standard deviation 1.</p>\n",
        "\n",
        "<p style = \"font-family: 'Helvetica Neue', Arial, sans-serif; text-align: left; font-size: 17.5px\">We will then scale the normalized output by a learnable parameter <code>alpha</code> and add a learnable parameter called <code>bias</code>. The training process is responsible for adjusting these parameters. The final result is a layer-normalized tensor, which ensures that the scale of the inputs to layers in the network is consistent.</p>"
      ]
    },
    {
      "cell_type": "code",
      "execution_count": 2,
      "metadata": {
        "id": "kVGQRsmKrwZu"
      },
      "outputs": [],
      "source": [
        "######################  TODO  ########################\n",
        "######################  TODO  ########################\n",
        "\n",
        "# - Create a `LayerNormalization` class inheriting from `nn.Module`\n",
        "# - Initialize with `eps` (small value to prevent division by zero)\n",
        "# - Define trainable parameters:\n",
        "#   1. `alpha`: Scaling factor initialized to 1\n",
        "#   2. `bias`: Offset initialized to 0\n",
        "\n",
        "# - In `forward`, perform layer normalization:\n",
        "#   1. Compute mean and standard deviation along the last dimension\n",
        "#   2. Normalize the input using the computed mean and std\n",
        "#   3. Scale and shift using `alpha` and `bias`\n",
        "\n",
        "######################  TODO  ########################\n",
        "######################  TODO  ########################\n"
      ]
    },
    {
      "cell_type": "markdown",
      "metadata": {
        "id": "U-IbSGQMr1Ye"
      },
      "source": [
        "## Part 4: Feed Forward Network\n",
        "<p style = \"font-family: 'Helvetica Neue', Arial, sans-serif; text-align: left; font-size: 17.5px\">In the fully connected feed-forward network, we apply two linear transformations with a ReLU activation in between. We can mathematically represent this operation as:</p>\n",
        "\n",
        "<p style=\"\n",
        "    margin-bottom: 5;\n",
        "    font-size: 22px;\n",
        "    font-weight: 300;\n",
        "    font-family: 'Helvetica Neue', sans-serif;\n",
        "    color: #000000;\n",
        "  \">\n",
        "    \\begin{equation}\n",
        "    \\text{FFN}(x) = \\max(0, xW_1 + b_1)W_2 + b_2\n",
        "    \\end{equation}\n",
        "</p>\n",
        "\n",
        "\n",
        "<p style = \"font-family: 'Helvetica Neue', Arial, sans-serif; text-align: left; font-size: 17.5px\">$W_1$ and $W_2$ are the weights, while $b_1$ and $b_2$ are the biases of the two linear transformations.</p>\n",
        "\n",
        "<p style = \"font-family: 'Helvetica Neue', Arial, sans-serif; text-align: left; font-size: 17.5px\">In the <code>FeedForwardBlock</code> below, we will define the two linear transformations—<code>self.linear_1</code> and <code>self.linear_2</code>—and the inner-layer <code>d_ff</code>. The input data will first pass through the <code>self.linear_1</code> transformation, which increases its dimensionality from <code>d_model</code> to <code>d_ff</code>. The output of this operation passes through the ReLU activation function, which introduces non-linearity so the network can learn more complex patterns, and the <code>self.dropout</code> layer is applied to mitigate overfitting. The final operation is the <code>self.linear_2</code> transformation to the dropout-modified tensor, which transforms it back to the original <code>d_model</code> dimension.</p>"
      ]
    },
    {
      "cell_type": "code",
      "execution_count": 3,
      "metadata": {
        "id": "N3H8kyccsEUW"
      },
      "outputs": [],
      "source": [
        "######################  TODO  ########################\n",
        "######################  TODO  ########################\n",
        "\n",
        "# - Create a `FeedForwardBlock` class inheriting from `nn.Module`\n",
        "# - Initialize with `d_model`, `d_ff`, and `dropout`\n",
        "# - Define:\n",
        "#   1. `linear_1`: Linear layer projecting from `d_model` to `d_ff`\n",
        "#   2. Dropout layer for regularization\n",
        "#   3. `linear_2`: Linear layer projecting back from `d_ff` to `d_model`\n",
        "\n",
        "# - In `forward`, apply the following steps:\n",
        "#   1. Pass input through `linear_1` followed by ReLU activation\n",
        "#   2. Apply dropout\n",
        "#   3. Pass through `linear_2` to return to original dimensions\n",
        "\n",
        "######################  TODO  ########################\n",
        "######################  TODO  ########################\n"
      ]
    },
    {
      "cell_type": "markdown",
      "metadata": {
        "id": "YEa1kF6csIvV"
      },
      "source": [
        "## Part 5: Multi Head Attention\n",
        "<p style = \"font-family: 'Helvetica Neue', Arial, sans-serif; text-align: left; font-size: 17.5px\">The Multi-Head Attention is the most crucial component of the Transformer. It is responsible for helping the model to understand complex relationships and patterns in the data.</p>\n",
        "\n",
        "<p style = \"font-family: 'Helvetica Neue', Arial, sans-serif; text-align: left; font-size: 17.5px\">The image below displays how the Multi-Head Attention works. It doesn't include <code>batch</code> dimension because it only illustrates the process for one single sentence.</p>\n",
        "\n",
        "<p style = \"font-family: 'Helvetica Neue', Arial, sans-serif; text-align: left; font-size: 17.5px\">The Multi-Head Attention block receives the input data split into queries, keys, and values organized into matrices $Q$, $K$, and $V$. Each matrix contains different facets of the input, and they have the same dimensions as the input.</p>\n",
        "\n",
        "<p style = \"font-family: 'Helvetica Neue', Arial, sans-serif; text-align: left; font-size: 17.5px\">We then linearly transform each matrix by their respective weight matrices $W^Q$, $W^K$, and $W^V$. These transformations will result in new matrices $Q'$, $K'$, and $V'$, which will be split into smaller matrices corresponding to different heads $h$, allowing the model to attend to information from different representation subspaces in parallel. This split creates multiple sets of queries, keys, and values for each head.</p>\n",
        "\n",
        "<p style = \"font-family: 'Helvetica Neue', Arial, sans-serif; text-align: left; font-size: 17.5px\">Finally, we concatenate every head into an $H$ matrix, which is then transformed by another weight matrix $W^o$ to produce the multi-head attention output, a matrix $MH-A$ that retains the input dimensionality.</p>"
      ]
    },
    {
      "cell_type": "code",
      "execution_count": 5,
      "metadata": {
        "id": "6ujcqPp1sOU9"
      },
      "outputs": [],
      "source": [
        "######################  TODO  ########################\n",
        "######################  TODO  ########################\n",
        "\n",
        "# - Create a `MultiHeadAttentionBlock` class inheriting from `nn.Module`\n",
        "# - Initialize with `d_model` (model dimensions), `h` (number of heads), and `dropout`:\n",
        "#   1. Assert `d_model` is divisible by `h`\n",
        "#   2. Define `d_k` as dimensions per head\n",
        "#   3. Create weight matrices (`w_q`, `w_k`, `w_v`, `w_o`) for query, key, value, and output\n",
        "#   4. Add a dropout layer for regularization\n",
        "\n",
        "# - Implement a static `attention` method to:\n",
        "#   1. Compute scaled dot-product attention\n",
        "#   2. Apply mask if provided\n",
        "#   3. Apply softmax and dropout\n",
        "#   4. Return weighted values and attention scores\n",
        "\n",
        "# - In `forward`, perform:\n",
        "#   1. Linear transformation of input into query, key, and value\n",
        "#   2. Split into `h` heads and rearrange dimensions\n",
        "#   3. Compute attention output and scores using `attention`\n",
        "#   4. Combine heads and apply output weight matrix\n",
        "\n",
        "######################  TODO  ########################\n",
        "######################  TODO  ########################\n"
      ]
    },
    {
      "cell_type": "markdown",
      "metadata": {
        "id": "wCaLjCVxsWIc"
      },
      "source": [
        "## Part 6: Residual Connection\n",
        "<p style = \"font-family: 'Helvetica Neue', Arial, sans-serif; text-align: left; font-size: 17.5px\">When we look at the architecture of the Transformer, we see that each sub-layer, including the <i>self-attention</i> and <i>Feed Forward</i> blocks, adds its output to its input before passing it to the <i>Add &amp; Norm</i> layer. This approach integrates the output with the original input in the <i>Add &amp; Norm</i> layer. This process is known as the skip connection, which allows the Transformer to train deep networks more effectively by providing a shortcut for the gradient to flow through during backpropagation.</p>\n",
        "\n",
        "<p style = \"font-family: 'Helvetica Neue', Arial, sans-serif; text-align: left; font-size: 17.5px\">The <code>ResidualConnection</code> class below is responsible for this process.</p>"
      ]
    },
    {
      "cell_type": "code",
      "execution_count": 6,
      "metadata": {
        "id": "f-bvuGhIsdfu"
      },
      "outputs": [],
      "source": [
        "######################  TODO  ########################\n",
        "######################  TODO  ########################\n",
        "\n",
        "# - Create a `ResidualConnection` class inheriting from `nn.Module`\n",
        "# - Initialize with `dropout`:\n",
        "#   1. Add a dropout layer for regularization\n",
        "#   2. Include a layer normalization instance\n",
        "\n",
        "# - In `forward`:\n",
        "#   1. Normalize the input using the normalization layer\n",
        "#   2. Pass the normalized input through the sublayer\n",
        "#   3. Apply dropout and add the result back to the original input for residual connection\n",
        "\n",
        "######################  TODO  ########################\n",
        "######################  TODO  ########################\n"
      ]
    },
    {
      "cell_type": "markdown",
      "metadata": {
        "id": "9YYI5vpasdGm"
      },
      "source": [
        "## Part 7: Encoder\n",
        "<p style = \"font-family: 'Helvetica Neue', Arial, sans-serif; text-align: left; font-size: 17.5px\">We will now build the encoder. We create the <code>EncoderBlock</code> class, consisting of the Multi-Head Attention and Feed Forward layers, plus the residual connections.</p>\n",
        "\n",
        "<p style = \"font-family: 'Helvetica Neue', Arial, sans-serif; text-align: left; font-size: 17.5px\">In the original paper, the Encoder Block repeats six times. We create the <code>Encoder</code> class as an assembly of multiple <code>EncoderBlock</code>s. We also add layer normalization as a final step after processing the input through all its blocks.</p>"
      ]
    },
    {
      "cell_type": "code",
      "execution_count": null,
      "metadata": {
        "id": "fRtppwE1s0-t"
      },
      "outputs": [],
      "source": [
        "######################  TODO  ########################\n",
        "######################  TODO  ########################\n",
        "\n",
        "# - Create an `EncoderBlock` class inheriting from `nn.Module`\n",
        "# - Initialize with:\n",
        "#   1. `self_attention_block`: Multi-head attention block\n",
        "#   2. `feed_forward_block`: Feed-forward block\n",
        "#   3. `dropout`: Dropout rate for residual connections\n",
        "# - Define two residual connections for:\n",
        "#   1. Self-attention block\n",
        "#   2. Feed-forward block\n",
        "\n",
        "# - In `forward`:\n",
        "#   1. Apply the first residual connection with the self-attention block\n",
        "#   2. Apply the second residual connection with the feed-forward block\n",
        "#   3. Return the updated tensor after both layers\n",
        "\n",
        "######################  TODO  ########################\n",
        "######################  TODO  ########################\n"
      ]
    },
    {
      "cell_type": "code",
      "execution_count": null,
      "metadata": {
        "id": "eSq7BZWcs5s1"
      },
      "outputs": [],
      "source": [
        "######################  TODO  ########################\n",
        "######################  TODO  ########################\n",
        "\n",
        "# - Create an `Encoder` class inheriting from `nn.Module`\n",
        "# - Initialize with:\n",
        "#   1. `layers`: A list of `EncoderBlock` instances\n",
        "#   2. A layer normalization instance for output normalization\n",
        "\n",
        "# - In `forward`:\n",
        "#   1. Pass the input tensor `x` through each `EncoderBlock` in `self.layers`\n",
        "#   2. Apply the mask during each block's forward pass\n",
        "#   3. Normalize the final output and return it\n",
        "\n",
        "######################  TODO  ########################\n",
        "######################  TODO  ########################\n"
      ]
    },
    {
      "cell_type": "markdown",
      "metadata": {
        "id": "P0HXE1fH5g0W"
      },
      "source": [
        "## Part 8: Decoder\n",
        "<p style = \"font-family: 'Helvetica Neue', Arial, sans-serif; text-align: left; font-size: 17.5px\">Similarly, the Decoder also consists of several DecoderBlocks that repeat six times in the original paper. The main difference is that it has an additional sub-layer that performs multi-head attention with a <i>cross-attention</i> component that uses the output of the Encoder as its keys and values while using the Decoder's input as queries.</p>\n",
        "\n",
        "<p style = \"font-family: 'Helvetica Neue', Arial, sans-serif; text-align: left; font-size: 17.5px\">For the Output Embedding, we can use the same <code>InputEmbeddings</code> class we use for the Encoder. You can also notice that the self-attention sub-layer is <i>masked</i>, which restricts the model from accessing future elements in the sequence.</p>\n",
        "\n",
        "<p style = \"font-family: 'Helvetica Neue', Arial, sans-serif; text-align: left; font-size: 17.5px\">We will start by building the <code>DecoderBlock</code> class, and then we will build the <code>Decoder</code> class, which will assemble multiple <code>DecoderBlock</code>s.</p>"
      ]
    },
    {
      "cell_type": "code",
      "execution_count": null,
      "metadata": {
        "id": "V9Aof9mb4PJX"
      },
      "outputs": [],
      "source": [
        "######################  TODO  ########################\n",
        "######################  TODO  ########################\n",
        "\n",
        "# - Create a `DecoderBlock` class inheriting from `nn.Module`\n",
        "# - Initialize with:\n",
        "#   1. `self_attention_block`: Multi-head self-attention block\n",
        "#   2. `cross_attention_block`: Multi-head cross-attention block\n",
        "#   3. `feed_forward_block`: Feed-forward block\n",
        "#   4. `dropout`: Dropout rate\n",
        "# - Define three residual connections for:\n",
        "#   1. Self-attention block\n",
        "#   2. Cross-attention block\n",
        "#   3. Feed-forward block\n",
        "\n",
        "# - In `forward`:\n",
        "#   1. Apply the self-attention block with target mask and residual connection\n",
        "#   2. Apply the cross-attention block with source mask and residual connection\n",
        "#   3. Apply the feed-forward block with residual connection\n",
        "#   4. Return the updated tensor\n",
        "\n",
        "######################  TODO  ########################\n",
        "######################  TODO  ########################\n"
      ]
    },
    {
      "cell_type": "code",
      "execution_count": null,
      "metadata": {
        "id": "vwdthvkrtNUM"
      },
      "outputs": [],
      "source": [
        "######################  TODO  ########################\n",
        "######################  TODO  ########################\n",
        "\n",
        "# - Create a `Decoder` class inheriting from `nn.Module`\n",
        "# - Initialize with:\n",
        "#   1. `layers`: A list of `DecoderBlock` instances\n",
        "#   2. A layer normalization instance for the final output\n",
        "\n",
        "# - In `forward`:\n",
        "#   1. Pass the input tensor `x` through each `DecoderBlock` in `self.layers`\n",
        "#   2. Provide `encoder_output`, `src_mask`, and `tgt_mask` to each block\n",
        "#   3. Normalize the final output using the layer normalization\n",
        "#   4. Return the normalized output\n",
        "\n",
        "######################  TODO  ########################\n",
        "######################  TODO  ########################\n"
      ]
    },
    {
      "cell_type": "markdown",
      "metadata": {
        "id": "Qm4g_8O1tS3d"
      },
      "source": [
        "<p style = \"font-family: 'Helvetica Neue', Arial, sans-serif; text-align: left; font-size: 17.5px\">You can see in the Decoder image that after running a stack of <code>DecoderBlock</code>s, we have a Linear Layer and a Softmax function to the output of probabilities. The <code>ProjectionLayer</code> class below is responsible for converting the output of the model into a probability distribution over the <i>vocabulary</i>, where we select each output token from a vocabulary of possible tokens.</p>"
      ]
    },
    {
      "cell_type": "code",
      "execution_count": 7,
      "metadata": {
        "id": "UbWVoNintThN"
      },
      "outputs": [],
      "source": [
        "######################  TODO  ########################\n",
        "######################  TODO  ########################\n",
        "\n",
        "# - Create a `ProjectionLayer` class inheriting from `nn.Module`\n",
        "# - Initialize with:\n",
        "#   1. `d_model`: Dimension of the model\n",
        "#   2. `vocab_size`: Size of the output vocabulary\n",
        "# - Define a linear layer to project from `d_model` to `vocab_size`\n",
        "\n",
        "# - In `forward`:\n",
        "#   1. Pass the input through the linear layer\n",
        "#   2. Apply log Softmax along the last dimension\n",
        "#   3. Return the log probabilities\n",
        "\n",
        "######################  TODO  ########################\n",
        "######################  TODO  ########################\n"
      ]
    },
    {
      "cell_type": "markdown",
      "metadata": {
        "id": "waCzPEAxtaR8"
      },
      "source": [
        "## Part 9: Building the Transformer\n",
        "\n",
        "<p style = \"font-family: 'Helvetica Neue', Arial, sans-serif; text-align: left; font-size: 17.5px\">We finally have every component of the Transformer architecture ready. We may now construct the Transformer by putting it all together.</p>\n",
        "\n",
        "<p style = \"font-family: 'Helvetica Neue', Arial, sans-serif; text-align: left; font-size: 17.5px\">In the <code>Transformer</code> class below, we will bring together all the components of the model's architecture.</p>"
      ]
    },
    {
      "cell_type": "code",
      "execution_count": 8,
      "metadata": {
        "id": "qXbPW4oCtk2G"
      },
      "outputs": [],
      "source": [
        "######################  TODO  ########################\n",
        "######################  TODO  ########################\n",
        "\n",
        "# - Create a `Transformer` class inheriting from `nn.Module`\n",
        "# - Initialize with:\n",
        "#   1. `encoder`: Encoder module\n",
        "#   2. `decoder`: Decoder module\n",
        "#   3. `src_embed` and `tgt_embed`: Input embeddings for source and target languages\n",
        "#   4. `src_pos` and `tgt_pos`: Positional encodings for source and target languages\n",
        "#   5. `projection_layer`: Linear projection layer for final output\n",
        "\n",
        "# - Define the `encode` method:\n",
        "#   1. Apply source embeddings to input\n",
        "#   2. Add positional encoding\n",
        "#   3. Pass through the encoder with the source mask\n",
        "#   4. Return the encoded representation\n",
        "\n",
        "# - Define the `decode` method:\n",
        "#   1. Apply target embeddings to input\n",
        "#   2. Add positional encoding\n",
        "#   3. Pass through the decoder with encoder output, source mask, and target mask\n",
        "#   4. Return the decoder's output\n",
        "\n",
        "# - Define the `project` method:\n",
        "#   1. Pass decoder output through the projection layer\n",
        "#   2. Apply log Softmax to obtain probabilities\n",
        "\n",
        "######################  TODO  ########################\n",
        "######################  TODO  ########################\n"
      ]
    },
    {
      "cell_type": "markdown",
      "metadata": {
        "id": "6znypMaetmRk"
      },
      "source": [
        "<p style = \"font-family: 'Helvetica Neue', Arial, sans-serif; text-align: left; font-size: 17.5px\">The architecture is finally ready. We now define a function called <code>build_transformer</code>, in which we define the parameters and everything we need to have a fully operational Transformer model for the task of <b>machine translation</b>.</p>\n",
        "\n",
        "<p style = \"font-family: 'Helvetica Neue', Arial, sans-serif; text-align: left; font-size: 17.5px\">We will set the same parameters as in the original paper, <a href = \"https://arxiv.org/pdf/1706.03762.pdf\"><i>Attention Is All You Need</i></a>, where $d_{model}$ = 512, $N$ = 6, $h$ = 8, dropout rate $P_{drop}$ = 0.1, and $d_{ff}$ = 2048.</p>"
      ]
    },
    {
      "cell_type": "code",
      "execution_count": 9,
      "metadata": {
        "id": "bqGnJ6w2twJc"
      },
      "outputs": [],
      "source": [
        "######################  TODO  ########################\n",
        "######################  TODO  ########################\n",
        "\n",
        "# - Define a `build_transformer` function with parameters for:\n",
        "#   1. Vocabulary sizes (`src_vocab_size`, `tgt_vocab_size`)\n",
        "#   2. Sequence lengths (`src_seq_len`, `tgt_seq_len`)\n",
        "#   3. Model dimensions (`d_model`, `d_ff`)\n",
        "#   4. Number of layers (`N`) and heads (`h`)\n",
        "#   5. Dropout rate (`dropout`)\n",
        "\n",
        "# - Create:\n",
        "#   1. Source and target embedding layers\n",
        "#   2. Positional encoding layers for source and target\n",
        "#   3. Encoder blocks with self-attention and feed-forward layers\n",
        "#   4. Decoder blocks with self-attention, cross-attention, and feed-forward layers\n",
        "#   5. Encoder and Decoder modules using the blocks\n",
        "#   6. Projection layer to map decoder output to target vocabulary\n",
        "\n",
        "# - Assemble all components into a `Transformer` instance\n",
        "# - Initialize parameters with Xavier uniform initialization\n",
        "# - Return the initialized Transformer\n",
        "\n",
        "######################  TODO  ########################\n",
        "######################  TODO  ########################\n"
      ]
    },
    {
      "cell_type": "markdown",
      "metadata": {
        "id": "Iw7CWf4bt3yr"
      },
      "source": [
        "The model is now ready to be trained!"
      ]
    },
    {
      "cell_type": "markdown",
      "metadata": {
        "id": "6_7Z3fEYuTK0"
      },
      "source": [
        "## Part 10: Tokenizer"
      ]
    },
    {
      "cell_type": "markdown",
      "metadata": {
        "id": "EDinqTghqr_Q"
      },
      "source": [
        "<p style = \"font-family: 'Helvetica Neue', Arial, sans-serif; text-align: left; font-size: 17.5px\">Tokenization is a crucial preprocessing step for our Transformer model. In this step, we convert raw text into a number format that the model can process.  </p>\n",
        "\n",
        "<p style = \"font-family: 'Helvetica Neue', Arial, sans-serif; text-align: left; font-size: 17.5px\">There are several Tokenization strategies. We will use the <i>word-level tokenization</i> to transform each word in a sentence into a token.</p>"
      ]
    },
    {
      "cell_type": "markdown",
      "metadata": {
        "id": "at-cYYjnqr_Q"
      },
      "source": [
        "<center>\n",
        "    <img src = \"https://substackcdn.com/image/fetch/f_auto,q_auto:good,fl_progressive:steep/https%3A%2F%2Fbucketeer-e05bbc84-baa3-437e-9518-adb32be77984.s3.amazonaws.com%2Fpublic%2Fimages%2F8d5e749c-b0bd-4496-85a1-9b4397ad935f_1400x787.jpeg\" width = 800, height= 800>\n",
        "<p style = \"font-size: 16px;\n",
        "            font-family: 'Georgia', serif;\n",
        "            text-align: center;\n",
        "            margin-top: 10px;\">Different tokenization strategies. Source: <a href = \"https://shaankhosla.substack.com/p/talking-tokenization\">shaankhosla.substack.com</a>.</p>\n",
        "</center>"
      ]
    },
    {
      "cell_type": "markdown",
      "metadata": {
        "id": "gjRMr2N6qr_Q"
      },
      "source": [
        "<p style = \"font-family: 'Helvetica Neue', Arial, sans-serif; text-align: left; font-size: 17.5px\">After tokenizing a sentence, we map each token to an unique integer ID based on the created vocabulary present in the training corpus during the training of the tokenizer. Each integer number represents a specific word in the vocabulary.</p>\n",
        "\n",
        "<p style = \"font-family: 'Helvetica Neue', Arial, sans-serif; text-align: left; font-size: 17.5px\">Besides the words in the training corpus, Transformers use special tokens for specific purposes. These are some that we will define right away:</p>\n",
        "\n",
        "<p style = \"font-family: 'Helvetica Neue', Arial, sans-serif; text-align: left; font-size: 17.5px\"><b>• [UNK]:</b> This token is used to identify an unknown word in the sequence.</p>\n",
        "\n",
        "<p style = \"font-family: 'Helvetica Neue', Arial, sans-serif; text-align: left; font-size: 17.5px\"><b>• [PAD]:</b> Padding token to ensure that all sequences in a batch have the same length, so we pad shorter sentences with this token. We use attention masks to <i>\"tell\"</i> the model to ignore the padded tokens during training since they don't have any real meaning to the task.</p>\n",
        "\n",
        "<p style = \"font-family: 'Helvetica Neue', Arial, sans-serif; text-align: left; font-size: 17.5px\"><b>•  [SOS]:</b> This is a token used to signal the <i>Start of Sentence</i>.</p>\n",
        "\n",
        "<p style = \"font-family: 'Helvetica Neue', Arial, sans-serif; text-align: left; font-size: 17.5px\"><b>•  [EOS]:</b> This is a token used to signal the <i>End of Sentence</i>.</p>\n",
        "\n",
        "<p style = \"font-family: 'Helvetica Neue', Arial, sans-serif; text-align: left; font-size: 17.5px\">In the <code>build_tokenizer</code> function below, we ensure a tokenizer is ready to train the model. It checks if there is an existing tokenizer, and if that is not the case, it trains a new tokenizer.</p>"
      ]
    },
    {
      "cell_type": "code",
      "execution_count": 10,
      "metadata": {
        "id": "Zh9pOItduxHq"
      },
      "outputs": [],
      "source": [
        "######################  TODO  ########################\n",
        "######################  TODO  ########################\n",
        "\n",
        "# - Define a `build_tokenizer` function with parameters for:\n",
        "#   1. `config`: Configuration containing tokenizer file path\n",
        "#   2. `ds`: Dataset to train the tokenizer\n",
        "#   3. `lang`: Language for which the tokenizer is built\n",
        "\n",
        "# - Check if the tokenizer file exists:\n",
        "#   1. If not, create a new tokenizer:\n",
        "#      - Initialize a word-level tokenizer with an unknown token (`[UNK]`)\n",
        "#      - Set the pre-tokenizer to split text by whitespace\n",
        "#      - Define a trainer with special tokens and minimum frequency\n",
        "#      - Train the tokenizer on all sentences in the dataset\n",
        "#      - Save the trained tokenizer to the specified file path\n",
        "#   2. If the file exists, load the tokenizer from the file\n",
        "\n",
        "# - Return the loaded or trained tokenizer\n",
        "\n",
        "######################  TODO  ########################\n",
        "######################  TODO  ########################\n"
      ]
    },
    {
      "cell_type": "markdown",
      "metadata": {
        "id": "oodlr4eouxTU"
      },
      "source": [
        "## Part 11: Load Dataset"
      ]
    },
    {
      "cell_type": "markdown",
      "metadata": {
        "id": "YdVFowgUqr_Q"
      },
      "source": [
        "<p style = \"font-family: 'Helvetica Neue', Arial, sans-serif; text-align: left; font-size: 17.5px\">For this task, we will use the <a href = \"opus_books · Datasets at Hugging Face\">OpusBooks dataset</a>, available on 🤗Hugging Face. This dataset consists of two features, <code>id</code> and <code>translation</code>. The <code>translation</code> feature contains pairs of sentences in different languages, such as Spanish and Portuguese, English and French, and so forth.</p>\n",
        "\n",
        "<p style = \"font-family: 'Helvetica Neue', Arial, sans-serif; text-align: left; font-size: 17.5px\">I first tried translating sentences from English to Portuguese—my native tongue — but there are only 1.4k examples for this pair, so the results were not satisfying in the current configurations for this model. I then tried to use the English-French pair due to its higher number of examples—127k—but it would take too long to train with the current configurations. I then opted to train the model on the English-Italian pair, the same one used in the <a href = \"https://youtu.be/ISNdQcPhsts?si=253J39cose6IdsLv\">Coding a Transformer from scratch on PyTorch, with full explanation, training and inference\n",
        "</a> video, as that was a good balance between performance and time of training.</p>\n",
        "\n",
        "<p style = \"font-family: 'Helvetica Neue', Arial, sans-serif; text-align: left; font-size: 17.5px\">We start by defining the <code>get_all_sentences</code> function to iterate over the dataset and extract the sentences according to the language pair defined—we will do that later.</p>"
      ]
    },
    {
      "cell_type": "code",
      "execution_count": 11,
      "metadata": {
        "id": "xvRuuTpIveZS"
      },
      "outputs": [],
      "source": [
        "######################  TODO  ########################\n",
        "######################  TODO  ########################\n",
        "\n",
        "# - Define a `get_all_sentences` function to extract sentences from a dataset\n",
        "# - Accept parameters:\n",
        "#   1. `ds`: The dataset containing translation pairs\n",
        "#   2. `lang`: The language key to extract translations\n",
        "\n",
        "# - Iterate through the dataset:\n",
        "#   1. Access the 'translation' field of each pair\n",
        "#   2. Yield the sentence corresponding to the specified language key\n",
        "\n",
        "######################  TODO  ########################\n",
        "######################  TODO  ########################\n"
      ]
    },
    {
      "cell_type": "markdown",
      "metadata": {
        "id": "EA13IRYEqr_R"
      },
      "source": [
        "<p style = \"font-family: 'Helvetica Neue', Arial, sans-serif; text-align: left; font-size: 17.5px\">The <code>get_ds</code> function is defined to load and prepare the dataset for training and validation. In this function, we build or load the tokenizer, split the dataset, and create DataLoaders, so the model can successfully iterate over the dataset in batches. The result of these functions is tokenizers for the source and target languages plus the DataLoader objects.</p>"
      ]
    },
    {
      "cell_type": "code",
      "execution_count": null,
      "metadata": {
        "id": "IkTRqP8LvpVy"
      },
      "outputs": [],
      "source": [
        "######################  TODO  ########################\n",
        "######################  TODO  ########################\n",
        "\n",
        "# - Define a `get_ds` function to process and prepare the dataset for training\n",
        "# - Load the `OpusBooks` dataset using:\n",
        "#   1. Source and target languages from `config`\n",
        "#   2. Train split of the dataset\n",
        "\n",
        "# - Build or load tokenizers for source and target languages using `build_tokenizer`\n",
        "\n",
        "# - Split the dataset into training and validation sets:\n",
        "#   1. Allocate 90% for training and 10% for validation\n",
        "#   2. Use `random_split` for randomized splitting\n",
        "\n",
        "# - Process the splits using a `BilingualDataset` class:\n",
        "#   1. Convert sentences to tokenized representations\n",
        "#   2. Apply source and target tokenizers\n",
        "#   3. Ensure sequence lengths conform to `config`\n",
        "\n",
        "# - Compute and print the maximum sentence lengths for both source and target languages\n",
        "\n",
        "# - Create DataLoader objects for training and validation:\n",
        "#   1. Define batch sizes from `config`\n",
        "#   2. Enable shuffling for training DataLoader\n",
        "\n",
        "# - Return:\n",
        "#   1. Training DataLoader\n",
        "#   2. Validation DataLoader\n",
        "#   3. Tokenizer for source language\n",
        "#   4. Tokenizer for target language\n",
        "\n",
        "######################  TODO  ########################\n",
        "######################  TODO  ########################\n"
      ]
    },
    {
      "cell_type": "markdown",
      "metadata": {
        "id": "VK3d2-AVqr_R"
      },
      "source": [
        "<p style = \"font-family: 'Helvetica Neue', Arial, sans-serif; text-align: left; font-size: 17.5px\">We define the <code>casual_mask</code> function to create a mask for the attention mechanism of the decoder. This mask prevents the model from having information about future elements in the sequence. </p>\n",
        "\n",
        "<p style = \"font-family: 'Helvetica Neue', Arial, sans-serif; text-align: left; font-size: 17.5px\">We start by making a square grid filled with ones. We determine the grid size with the <code>size</code> parameter. Then, we change all the numbers above the main diagonal line to zeros. Every number on one side becomes a zero, while the rest remain ones. The function then flips all these values, turning ones into zeros and zeros into ones. This process is crucial for models that predict future tokens in a sequence.</p>"
      ]
    },
    {
      "cell_type": "code",
      "execution_count": null,
      "metadata": {
        "id": "kTgMYaY2vvWq"
      },
      "outputs": [],
      "source": [
        "######################  TODO  ########################\n",
        "######################  TODO  ########################\n",
        "\n",
        "# - Define a `casual_mask` function to create an upper triangular mask\n",
        "# - Accept `size` as the dimension of the square matrix\n",
        "# - Steps:\n",
        "#   1. Create a square matrix of size `size x size` filled with ones\n",
        "#   2. Use `torch.triu` to make it upper triangular, with zeros below the diagonal\n",
        "#   3. Convert the matrix to integer type\n",
        "#   4. Return the mask where zeros represent the causal positions\n",
        "\n",
        "######################  TODO  ########################\n",
        "######################  TODO  ########################\n"
      ]
    },
    {
      "cell_type": "markdown",
      "metadata": {
        "id": "ccdK5XnMqr_R"
      },
      "source": [
        "<p style = \"font-family: 'Helvetica Neue', Arial, sans-serif; text-align: left; font-size: 17.5px\">The <code>BilingualDataset</code> class processes the texts of the target and source languages in the dataset by tokenizing them and adding all the necessary special tokens. This class also certifies that the sentences are within a maximum sequence length for both languages and pads all necessary sentences.</p>"
      ]
    },
    {
      "cell_type": "code",
      "execution_count": null,
      "metadata": {
        "id": "x9v94mdgv3y6"
      },
      "outputs": [],
      "source": [
        "######################  TODO  ########################\n",
        "######################  TODO  ########################\n",
        "\n",
        "# - Define a `BilingualDataset` class inheriting from `Dataset`\n",
        "# - Initialize with:\n",
        "#   1. `ds`: Dataset containing sentence pairs\n",
        "#   2. `tokenizer_src` and `tokenizer_tgt`: Tokenizers for source and target languages\n",
        "#   3. `src_lang` and `tgt_lang`: Language identifiers\n",
        "#   4. `seq_len`: Maximum sequence length for tokens\n",
        "\n",
        "# - Define special tokens (`[SOS]`, `[EOS]`, `[PAD]`) using the target tokenizer\n",
        "\n",
        "# - Implement `__len__` to return the number of sentence pairs in the dataset\n",
        "\n",
        "# - Implement `__getitem__` to:\n",
        "#   1. Retrieve source and target texts based on the index\n",
        "#   2. Tokenize source and target texts\n",
        "#   3. Compute required padding for source and target tokens\n",
        "#   4. Raise an error if tokenized sentences exceed `seq_len`\n",
        "#   5. Build `encoder_input` by concatenating `[SOS]`, tokenized text, `[EOS]`, and padding\n",
        "#   6. Build `decoder_input` by concatenating `[SOS]`, tokenized text, and padding\n",
        "#   7. Build `label` by concatenating tokenized text, `[EOS]`, and padding\n",
        "#   8. Ensure all tensors are of length `seq_len`\n",
        "\n",
        "# - Return a dictionary containing:\n",
        "#   1. `encoder_input`: Tensor for the encoder\n",
        "#   2. `decoder_input`: Tensor for the decoder\n",
        "#   3. `encoder_mask`: Mask for non-padding tokens in the encoder\n",
        "#   4. `decoder_mask`: Mask for non-padding tokens in the decoder with causal masking\n",
        "#   5. `label`: Expected output for training\n",
        "#   6. `src_text` and `tgt_text`: Original source and target texts\n",
        "\n",
        "######################  TODO  ########################\n",
        "######################  TODO  ########################\n"
      ]
    },
    {
      "cell_type": "markdown",
      "metadata": {
        "id": "B7cXlNUfv5uL"
      },
      "source": [
        "## Part 12: Validation Loop"
      ]
    },
    {
      "cell_type": "markdown",
      "metadata": {
        "id": "tf8Wt860qr_R"
      },
      "source": [
        "<p style = \"font-family: 'Helvetica Neue', Arial, sans-serif; text-align: left; font-size: 17.5px\">We will now create two functions for the validation loop. The validation loop is crucial to evaluate model performance in translating sentences from data it has not seen during training.</p>\n",
        "\n",
        "<p style = \"font-family: 'Helvetica Neue', Arial, sans-serif; text-align: left; font-size: 17.5px\">We will define two functions. The first function, <code>greedy_decode</code>, gives us the model's output by obtaining the most probable next token. The second function, <code>run_validation</code>, is responsible for running the validation process in which we decode the model's output and compare it with the reference text for the target sentence.</p>"
      ]
    },
    {
      "cell_type": "code",
      "execution_count": null,
      "metadata": {
        "id": "z1rzcAkpv8Ew"
      },
      "outputs": [],
      "source": [
        "######################  TODO  ########################\n",
        "######################  TODO  ########################\n",
        "\n",
        "# - Define a `greedy_decode` function to generate the most probable sequence using a trained model\n",
        "# - Accept parameters:\n",
        "#   1. `model`: Trained Transformer model\n",
        "#   2. `source`: Source input sequence\n",
        "#   3. `source_mask`: Mask for the source sequence\n",
        "#   4. `tokenizer_src` and `tokenizer_tgt`: Tokenizers for source and target languages\n",
        "#   5. `max_len`: Maximum sequence length for the output\n",
        "#   6. `device`: Device to run the computation (e.g., CPU or GPU)\n",
        "\n",
        "# - Steps:\n",
        "#   1. Retrieve indices for `[SOS]` and `[EOS]` tokens from the target tokenizer\n",
        "#   2. Compute encoder output for the source sequence\n",
        "#   3. Initialize decoder input with `[SOS]`\n",
        "#   4. Loop until `max_len` is reached or `[EOS]` is generated:\n",
        "#      - Create a causal mask for the decoder input\n",
        "#      - Compute decoder output using encoder output and masks\n",
        "#      - Apply the projection layer to get probabilities for the next token\n",
        "#      - Select the token with the highest probability and append it to the decoder input\n",
        "#      - Break the loop if `[EOS]` is generated\n",
        "#   5. Return the generated sequence of tokens\n",
        "\n",
        "######################  TODO  ########################\n",
        "######################  TODO  ########################\n"
      ]
    },
    {
      "cell_type": "code",
      "execution_count": null,
      "metadata": {
        "id": "iF7v9L0owcLT"
      },
      "outputs": [],
      "source": [
        "######################  TODO  ########################\n",
        "######################  TODO  ########################\n",
        "\n",
        "# - Define a `run_validation` function to evaluate the model on the validation dataset\n",
        "# - Accept parameters:\n",
        "#   1. `model`: Trained Transformer model\n",
        "#   2. `validation_ds`: Validation dataset\n",
        "#   3. `tokenizer_src` and `tokenizer_tgt`: Tokenizers for source and target languages\n",
        "#   4. `max_len`: Maximum sequence length for decoding\n",
        "#   5. `device`: Device to run the computation (e.g., CPU or GPU)\n",
        "#   6. `print_msg`: Function for displaying output messages\n",
        "#   7. `global_state`: Optional global state for tracking progress\n",
        "#   8. `writer`: Optional logging writer (e.g., TensorBoard)\n",
        "#   9. `num_examples`: Number of examples to process per run (default: 2)\n",
        "\n",
        "# - Steps:\n",
        "#   1. Set the model to evaluation mode\n",
        "#   2. Initialize a counter to track the number of processed examples\n",
        "#   3. Define a fixed console width for printed messages\n",
        "#   4. Iterate through the validation dataset:\n",
        "#      - Retrieve `encoder_input` and `encoder_mask` and move them to the specified device\n",
        "#      - Ensure batch size is 1 for validation\n",
        "#      - Use `greedy_decode` to generate the model's predictions\n",
        "#      - Decode the model's output into human-readable text\n",
        "#      - Print source, target, and predicted text using `print_msg`\n",
        "#      - Break the loop after processing the specified number of examples (`num_examples`)\n",
        "#   5. Ensure no gradients are computed during evaluation\n",
        "\n",
        "######################  TODO  ########################\n",
        "######################  TODO  ########################\n"
      ]
    },
    {
      "cell_type": "markdown",
      "metadata": {
        "id": "qw3nykKxwkIh"
      },
      "source": [
        "## Part 13: Training Loop"
      ]
    },
    {
      "cell_type": "markdown",
      "metadata": {
        "id": "az_Kwq4Zqr_S"
      },
      "source": [
        "<p style = \"font-family: 'Helvetica Neue', Arial, sans-serif; text-align: left; font-size: 17.5px\">We are ready to train our Transformer model on the OpusBook dataset for the English to Italian translation task.</p>\n",
        "\n",
        "<p style = \"font-family: 'Helvetica Neue', Arial, sans-serif; text-align: left; font-size: 17.5px\">We first start by defining the <code>get_model</code> function to load the model by calling the <code>build_transformer</code> function we have previously defined. This function uses the <code>config</code> dictionary to set a few parameters.</p>"
      ]
    },
    {
      "cell_type": "code",
      "execution_count": null,
      "metadata": {
        "id": "7QMn1BULwnBl"
      },
      "outputs": [],
      "source": [
        "######################  TODO  ########################\n",
        "######################  TODO  ########################\n",
        "\n",
        "# - Define a `get_model` function to initialize a Transformer model\n",
        "# - Accept parameters:\n",
        "#   1. `config`: Configuration dictionary with model settings\n",
        "#   2. `vocab_src_len`: Length of the source language vocabulary\n",
        "#   3. `vocab_tgt_len`: Length of the target language vocabulary\n",
        "\n",
        "# - Use the `build_transformer` function to:\n",
        "#   1. Create a Transformer model\n",
        "#   2. Pass the source and target vocabulary lengths\n",
        "#   3. Set sequence length (`seq_len`) and embedding dimensionality (`d_model`) from `config`\n",
        "\n",
        "# - Return the initialized model\n",
        "\n",
        "######################  TODO  ########################\n",
        "######################  TODO  ########################\n"
      ]
    },
    {
      "cell_type": "markdown",
      "metadata": {
        "id": "Ord2DlVkqr_S"
      },
      "source": [
        "<p style = \"font-family: 'Helvetica Neue', Arial, sans-serif; text-align: left; font-size: 17.5px\">I have mentioned the <code>config</code> dictionary several times throughout this notebook. Now, it is time to create it.</p>\n",
        "\n",
        "<p style = \"font-family: 'Helvetica Neue', Arial, sans-serif; text-align: left; font-size: 17.5px\">In the following cell, we will define two functions to configure our model and the training process.</p>\n",
        "\n",
        "<p style = \"font-family: 'Helvetica Neue', Arial, sans-serif; text-align: left; font-size: 17.5px\">In the <code>get_config</code> function, we define crucial parameters for the training process. <code>batch_size</code> for the number of training examples used in one iteration, <code>num_epochs</code> as the number of times the entire dataset is passed forward and backward through the Transformer, <code>lr</code> as the learning rate for the optimizer, etc. We will also finally define the pairs from the OpusBook dataset, <code>'lang_src': 'en'</code> for selecting English as the source language and <code>'lang_tgt': 'it'</code> for selecting Italian as the target language.</p>\n",
        "\n",
        "<p style = \"font-family: 'Helvetica Neue', Arial, sans-serif; text-align: left; font-size: 17.5px\">The <code>get_weights_file_path</code> function constructs the file path for saving or loading model weights for any specific epoch.</p>"
      ]
    },
    {
      "cell_type": "code",
      "execution_count": null,
      "metadata": {
        "id": "gXt82CejxeHZ"
      },
      "outputs": [],
      "source": [
        "######################  TODO  ########################\n",
        "######################  TODO  ########################\n",
        "\n",
        "# - Define a `get_config` function to return a dictionary of settings for building and training the Transformer model:\n",
        "#   1. `batch_size`: Number of samples per training batch\n",
        "#   2. `num_epochs`: Total training epochs\n",
        "#   3. `lr`: Learning rate for optimization\n",
        "#   4. `seq_len`: Maximum sequence length for tokens\n",
        "#   5. `d_model`: Dimensionality of embeddings (e.g., 512)\n",
        "#   6. `lang_src` and `lang_tgt`: Source and target languages\n",
        "#   7. `model_folder`: Folder to save model weights\n",
        "#   8. `model_basename`: Base name for model files\n",
        "#   9. `preload`: Option to preload a model (default: None)\n",
        "#   10. `tokenizer_file`: Filename pattern for saving tokenizers\n",
        "#   11. `experiment_name`: Name of the experiment for logging\n",
        "\n",
        "# - Define `get_weights_file_path` to construct a file path for saving/retrieving model weights:\n",
        "#   1. Accept `config` dictionary and `epoch` string as parameters\n",
        "#   2. Retrieve `model_folder` and `model_basename` from `config`\n",
        "#   3. Construct the filename with the base name and epoch\n",
        "#   4. Combine the current directory, model folder, and filename to return the full path\n",
        "\n",
        "######################  TODO  ########################\n",
        "######################  TODO  ########################\n"
      ]
    },
    {
      "cell_type": "markdown",
      "metadata": {
        "id": "Qw7SjmrDqr_S"
      },
      "source": [
        "<p style = \"font-family: 'Helvetica Neue', Arial, sans-serif; text-align: left; font-size: 17.5px\">We finally define our last function, <code>train_model</code>, which takes the <code>config</code> arguments as input. </p>\n",
        "\n",
        "<p style = \"font-family: 'Helvetica Neue', Arial, sans-serif; text-align: left; font-size: 17.5px\">In this function, we will set everything up for the training. We will load the model and its necessary components onto the GPU for faster training, set the <code>Adam</code> optimizer, and configure the <code>CrossEntropyLoss</code> function to compute the differences between the translations output by the model and the reference translations from the dataset. </p>\n",
        "\n",
        "<p style = \"font-family: 'Helvetica Neue', Arial, sans-serif; text-align: left; font-size: 17.5px\">Every loop necessary for iterating over the training batches, performing backpropagation, and computing the gradients is in this function. We will also use it to run the validation function and save the current state of the model.</p>"
      ]
    },
    {
      "cell_type": "code",
      "execution_count": null,
      "metadata": {
        "id": "2qK9wAjRxoDQ"
      },
      "outputs": [],
      "source": [
        "######################  TODO  ########################\n",
        "######################  TODO  ########################\n",
        "\n",
        "# - Define a `train_model` function to train a Transformer model\n",
        "# - Steps:\n",
        "#   1. Set up the device (GPU or CPU) for training\n",
        "#   2. Create a directory to store model weights\n",
        "#   3. Retrieve dataloaders and tokenizers for source and target languages using `get_ds`\n",
        "#   4. Initialize the Transformer model using `get_model` and move it to the specified device\n",
        "#   5. Set up TensorBoard for logging training metrics\n",
        "#   6. Configure the Adam optimizer with learning rate and epsilon from `config`\n",
        "#   7. If a pre-trained model exists:\n",
        "#      - Load the model, optimizer state, and global step\n",
        "#      - Set the starting epoch for resuming training\n",
        "#   8. Define a cross-entropy loss function:\n",
        "#      - Ignore padding tokens\n",
        "#      - Apply label smoothing to prevent overfitting\n",
        "#   9. Start training loop:\n",
        "#      - Iterate over epochs from the initial epoch to `config['num_epochs']`\n",
        "#      - For each batch in the training dataloader:\n",
        "#         - Set model to training mode\n",
        "#         - Move input data, masks, and labels to the device\n",
        "#         - Pass data through the encoder, decoder, and projection layer\n",
        "#         - Compute loss between model predictions and labels\n",
        "#         - Log training loss to TensorBoard\n",
        "#         - Perform backpropagation and update model parameters\n",
        "#         - Clear gradients for the next batch\n",
        "#         - Increment global step counter\n",
        "#      - After each epoch, run validation using `run_validation`\n",
        "#      - Save the current model state, optimizer state, and global step\n",
        "#   10. Save model weights after each epoch\n",
        "\n",
        "######################  TODO  ########################\n",
        "######################  TODO  ########################\n"
      ]
    },
    {
      "cell_type": "markdown",
      "metadata": {
        "id": "nrMmfyi8xrXw"
      },
      "source": [
        "We can now train the model!"
      ]
    },
    {
      "cell_type": "code",
      "execution_count": null,
      "metadata": {
        "id": "28425EYaxrsi"
      },
      "outputs": [],
      "source": [
        "if __name__ == '__main__':\n",
        "    warnings.filterwarnings('ignore')\n",
        "    # config = get_config()\n",
        "    # train_model(config)\n",
        "    pass"
      ]
    },
    {
      "cell_type": "markdown",
      "metadata": {
        "id": "v3axMN7QWiVH"
      },
      "source": [
        "# Section 2: BERT and LoRA\n",
        "\n",
        "Welcome to Section 2 of our Machine Learning assignment! I hope you've been enjoying the journey so far! 😊\n",
        "\n",
        " In this section, you will gain hands-on experience with [BERT](https://arxiv.org/abs/1810.04805) (Bidirectional Encoder Representations from Transformers) and [LoRA](https://arxiv.org/abs/2106.09685) (Low-Rank Adaptation) for text classification tasks. The section is divided into three main parts, each focusing on different aspects of NLP techniques.\n",
        "\n",
        "## Assignment Structure\n",
        "\n",
        "### Part 1: Data Preparation and Preprocessing\n",
        "In this part, you will work with a text classification dataset. You will learn how to:\n",
        "- Download and load the dataset\n",
        "- Perform necessary preprocessing steps\n",
        "- Implement data cleaning and transformation techniques\n",
        "- Prepare the data in a format suitable for BERT training\n",
        "\n",
        "### Part 2: Building a Small BERT Model\n",
        "You will create and train a small BERT model from scratch using the Hugging Face [Transformers](https://huggingface.co/docs/transformers/en/index) library. This part will help you understand:\n",
        "- The architecture of BERT\n",
        "- How to configure and initialize a BERT model\n",
        "- Training process and optimization\n",
        "- Model evaluation and performance analysis\n",
        "\n",
        "### Part 3: Fine-tuning with LoRA\n",
        "In the final part, you will work with a pre-trained [TinyBERT](https://arxiv.org/abs/1909.10351) model and use LoRA for efficient fine-tuning. You will:\n",
        "- Load a pre-trained TinyBERT model\n",
        "- Implement LoRA adaptation and fine-tune the model on our classification task\n",
        "- Compare the results with the previous approach"
      ]
    },
    {
      "cell_type": "markdown",
      "metadata": {
        "id": "M6FKcSFbOTMd"
      },
      "source": [
        "---\n",
        "\n",
        "> **NOTE**:  \n",
        "> Throughout this notebook, make an effort to include sufficient visualizations to enhance understanding:  \n",
        "> - In the data processing section, display the results of your operations (e.g., show data samples or distributions after preprocessing).  \n",
        "> - In the classification section, report various evaluation metrics such as accuracy, precision, recall, and F1-score to thoroughly assess your model's performance.  \n",
        "> - Additionally, take a moment to compare the sizes of the models discussed in this notebook with today’s enormous models. This will help you appreciate the challenges and computational demands associated with training such massive models. 😵‍💫\n",
        "\n",
        "---\n"
      ]
    },
    {
      "cell_type": "markdown",
      "metadata": {
        "id": "GHKw2r6yYV7n"
      },
      "source": [
        "## Part 1: Data Preparation and Preprocessing\n",
        "We'll be working with the [Consumer Complaint](https://catalog.data.gov/dataset/consumer-complaint-database) dataset, which contains ***complaints*** submitted by consumers about financial products and services. Our goal is to build a classifier that can automatically identify the type of complaint based on the consumer's text description. For this task, we will work with a smaller subset of the dataset, available for download through this [link](https://drive.google.com/file/d/1SpIHksR-WzruEgUjp1SQKGG8bZPnJJoN/view?usp=sharing)."
      ]
    },
    {
      "cell_type": "code",
      "execution_count": null,
      "metadata": {
        "id": "7ELMR8kXUh3o"
      },
      "outputs": [],
      "source": [
        "import torch\n",
        "from torch.utils.data import Dataset, DataLoader\n",
        "from transformers import BertTokenizer, BertForSequenceClassification, AdamW, BertConfig\n",
        "from sklearn.model_selection import train_test_split\n",
        "import numpy as np\n",
        "import pandas as pd\n",
        "from sklearn.preprocessing import LabelEncoder\n",
        "from tqdm import tqdm"
      ]
    },
    {
      "cell_type": "markdown",
      "metadata": {
        "id": "9oJXlKLYeymq"
      },
      "source": [
        "### 1.2 Loading the Data"
      ]
    },
    {
      "cell_type": "code",
      "execution_count": null,
      "metadata": {
        "id": "mGga8BmnUcl0"
      },
      "outputs": [],
      "source": [
        "######################  TODO  ########################\n",
        "######################  TODO  ########################\n",
        "# Load the dataset\n",
        "\n",
        "######################  TODO  ########################\n",
        "######################  TODO  ########################"
      ]
    },
    {
      "cell_type": "markdown",
      "metadata": {
        "id": "L9hr8-FNgpVO"
      },
      "source": [
        "### 1.3 Data Sampling and Class Distribution Analysis\n",
        "\n",
        "Working with large datasets can be computationally intensive during development. Additionally, imbalanced class distribution can affect model performance. In this section, you'll sample the data and analyze class distributions to make informed decisions about your training dataset."
      ]
    },
    {
      "cell_type": "markdown",
      "metadata": {
        "id": "Cl_g_ZU4h5RG"
      },
      "source": [
        "---\n",
        "\n",
        "We'll work with a manageable portion of the data to develop and test our approach. While using the complete dataset would likely yield better results, a smaller sample allows us to prototype our solution more efficiently.\n"
      ]
    },
    {
      "cell_type": "code",
      "execution_count": null,
      "metadata": {
        "id": "QAJUXNCFhYsf"
      },
      "outputs": [],
      "source": [
        "######################  TODO  ########################\n",
        "######################  TODO  ########################\n",
        "\n",
        "# - Sample a portion of the complete dataset\n",
        "# - Display the first few rows of your sampled dataset\n",
        "# - Print the shape of your original and sampled datasets\n",
        "\n",
        "######################  TODO  ########################\n",
        "######################  TODO  ########################"
      ]
    },
    {
      "cell_type": "markdown",
      "metadata": {
        "id": "50a4NJeMiBb6"
      },
      "source": [
        "---\n",
        "\n",
        "Let's examine the distribution of ***complaints*** types in our dataset. You'll notice that some products have significantly more instances than others, and some categories are quite similar. For example:\n",
        "\n",
        "- Multiple categories might refer to similar financial products\n",
        "- Some categories might have very few examples\n",
        "- Certain categories might be subcategories of others\n",
        "\n",
        "You have two main approaches to handle this situation:\n",
        "\n",
        "1. **Merging Similar Classes:** Identify categories that represent similar products/services and Combine them to create more robust, general categories\n",
        "\n",
        "2. **Selecting Major Classes:** Only select the categories with sufficient representation\n",
        "\n",
        "\n",
        "\n",
        "> You may choose any approach, but after this step, your data must include **at least five** distinct classes.\n",
        "\n"
      ]
    },
    {
      "cell_type": "code",
      "execution_count": null,
      "metadata": {
        "id": "nby2Hrwwjd46"
      },
      "outputs": [],
      "source": [
        "######################  TODO  ########################\n",
        "######################  TODO  ########################\n",
        "\n",
        "# - Display the number of complaints in each product category\n",
        "# - Identify which classes are under-represented\n",
        "\n",
        "# - Handle class imbalance by choosing and implementing one of these approaches:\n",
        "#   1. Merge similar product categories (e.g., combining related categories)\n",
        "#   2. Keep only the major classes with sufficient examples\n",
        "\n",
        "######################  TODO  ########################\n",
        "######################  TODO  ########################"
      ]
    },
    {
      "cell_type": "markdown",
      "metadata": {
        "id": "lD3oISsijt1P"
      },
      "source": [
        "---\n",
        "### 1.4 Data Encoding and Text Preprocessing\n",
        "\n",
        "Before training our model, we need to prepare both our target labels and text data. This involves converting categorical labels into numerical format and cleaning our text data to improve model performance."
      ]
    },
    {
      "cell_type": "code",
      "execution_count": null,
      "metadata": {
        "id": "pAmaRU92mGyT"
      },
      "outputs": [],
      "source": [
        "######################  TODO  ########################\n",
        "######################  TODO  ########################\n",
        "\n",
        "# Label Encoding\n",
        "# - Apply label encoding to convert product categories into numeric values\n",
        "\n",
        "# Text Preprocessing\n",
        "# Choose and implement preprocessing steps that you think will improve the quality of your text data.\n",
        "# Here are some suggestions:\n",
        "\n",
        "# - Remove special characters and punctuation\n",
        "# - Remove very short complaints (e.g., less than 10 words)\n",
        "# - Remove HTML tags if present\n",
        "\n",
        "######################  TODO  ########################\n",
        "######################  TODO  ########################"
      ]
    },
    {
      "cell_type": "markdown",
      "metadata": {
        "id": "j4jVvN4oopUU"
      },
      "source": [
        "## 1.5 Dataset Creation and Tokenization\n",
        "\n",
        "For training our BERT model, we need to:\n",
        "1. Create a custom Dataset class that will handle tokenization\n",
        "2. Split the data into training and testing sets\n",
        "3. Use BERT's tokenizer to convert text into a format suitable for the model"
      ]
    },
    {
      "cell_type": "code",
      "execution_count": null,
      "metadata": {
        "id": "yHLQgJhopEh5"
      },
      "outputs": [],
      "source": [
        "######################  TODO  ########################\n",
        "######################  TODO  ########################\n",
        "\n",
        "class ComplaintDataset(Dataset):\n",
        "    \"\"\"A custom Dataset class for handling consumer complaints text data with BERT tokenization.\n",
        "\n",
        "    Parameters:\n",
        "        texts (List[str]): List of complaint texts to be processed\n",
        "        labels (List[int]): List of encoded labels corresponding to each text\n",
        "        tokenizer (BertTokenizer): A BERT tokenizer instance for text processing\n",
        "        max_len (int, optional): Maximum length for padding/truncating texts. Defaults to 512\n",
        "\n",
        "    Returns:\n",
        "        dict: For each item, returns a dictionary containing:\n",
        "            - input_ids (torch.Tensor): Encoded token ids of the text\n",
        "            - attention_mask (torch.Tensor): Attention mask for the padded sequence\n",
        "            - labels (torch.Tensor): Encoded label as a tensor\n",
        "    \"\"\"\n",
        "    def __init__(self, texts, labels, tokenizer, max_len=512):\n",
        "        ## TODO ##\n",
        "        pass\n",
        "\n",
        "    def __len__(self):\n",
        "        ## TODO ##\n",
        "        pass\n",
        "\n",
        "    def __getitem__(self, idx):\n",
        "        ## TODO ##\n",
        "        pass\n",
        "\n",
        "######################  TODO  ########################\n",
        "######################  TODO  ########################"
      ]
    },
    {
      "cell_type": "code",
      "execution_count": null,
      "metadata": {
        "id": "-js5x8M5mksA"
      },
      "outputs": [],
      "source": [
        "######################  TODO  ########################\n",
        "######################  TODO  ########################\n",
        "\n",
        "# Split the data\n",
        "X_train, X_test, y_train, y_test = # TODO\n",
        "\n",
        "# Initialize tokenizer and create datasets\n",
        "tokenizer = # TODO\n",
        "train_dataset = # TODO\n",
        "test_dataset = # TODO\n",
        "\n",
        "# Create dataloaders\n",
        "train_loader = # TODO\n",
        "test_loader = # TODO\n",
        "\n",
        "######################  TODO  ########################\n",
        "######################  TODO  ########################"
      ]
    },
    {
      "cell_type": "markdown",
      "metadata": {
        "id": "aMcc2gsbt0iJ"
      },
      "source": [
        "## Part 2: Training a Small-Size BERT Model\n",
        "\n",
        "In this part, we will explore how to build and train a small-sized BERT model for our classification task. Instead of using the full-sized BERT model, which is computationally expensive, we will create a smaller version using the Transformers library."
      ]
    },
    {
      "cell_type": "code",
      "execution_count": null,
      "metadata": {
        "id": "3RS5oBz3qmvu"
      },
      "outputs": [],
      "source": [
        "######################  TODO  ########################\n",
        "######################  TODO  ########################\n",
        "\n",
        "# 1. Define your BERT model for sequence classification\n",
        "#    Ensure that you set up the configuration properly (e.g., specify the number of output labels).\n",
        "# 2. Print the total number of trainable parameters in the model to understand its size.\n",
        "\n",
        "######################  TODO  ########################\n",
        "######################  TODO  ########################"
      ]
    },
    {
      "cell_type": "markdown",
      "metadata": {
        "id": "Xr4Z14a6wL2c"
      },
      "source": [
        "---\n",
        "\n",
        "Now that you have defined your model, it's time to train it!☠️\n",
        "\n",
        "Training a model of this size can take some time, depending on the available resources. To manage this, you can train your model for just **2–3 epochs** to demonstrate progress. Here are some hints:\n",
        "- **Training Metrics:** Ensure you print enough metrics, such as loss and accuracy, to track the training progress.\n",
        "- **Interactive Monitoring:** Use the `tqdm` library to display the progress of your training loop in real-time."
      ]
    },
    {
      "cell_type": "code",
      "execution_count": null,
      "metadata": {
        "id": "FRZW-F9Dw6AI"
      },
      "outputs": [],
      "source": [
        "######################  TODO  ########################\n",
        "######################  TODO  ########################\n",
        "\n",
        "optimizer = # TODO\n",
        "num_epochs = # TODO\n",
        "\n",
        "# Training loop\n",
        "for epoch in range(num_epochs):\n",
        "\n",
        "    model.train()\n",
        "\n",
        "    for batch in tqdm(train_loader):\n",
        "        optimizer.zero_grad()\n",
        "\n",
        "        input_ids = # TODO\n",
        "        attention_mask = # TODO\n",
        "        labels = # TODO\n",
        "\n",
        "        outputs = model(\n",
        "            input_ids=input_ids,\n",
        "            attention_mask=attention_mask,\n",
        "            labels=labels\n",
        "        )\n",
        "\n",
        "        # TODO: Perform backpropagation and update the optimizer. Hint: Use outputs.loss to access the model's loss.\n",
        "\n",
        "        # TODO: Monitor the training process by reporting metrics such as loss and accuracy.\n",
        "\n",
        "\n",
        "# TODO : Evaluate the model on test dataset\n",
        "\n",
        "######################  TODO  ########################\n",
        "######################  TODO  ########################"
      ]
    },
    {
      "cell_type": "markdown",
      "metadata": {
        "id": "-yHtTYcpz6AW"
      },
      "source": [
        "## Part 3: Fine-Tuning TinyBERT with LoRA\n",
        "\n",
        "As you have experienced, training even a small-sized BERT model can be computationally intensive and time-consuming. To address these challenges, we explore **Parameter-Efficient Fine-Tuning (PEFT)** methods, which allow us to utilize the power of large pretrained models without requiring extensive resources.\n",
        "\n",
        "---\n",
        "\n",
        "### **Parameter-Efficient Fine-Tuning (PEFT)**\n",
        "\n",
        "PEFT methods focus on fine-tuning only a small portion of the model’s parameters while keeping most of the pretrained weights frozen. This drastically reduces the computational and storage requirements while leveraging the rich knowledge embedded in pretrained models.\n",
        "\n",
        "One popular PEFT method is LoRA (Low-Rank Adaptation).\n",
        "\n",
        "- **What is LoRA?**\n",
        "\n",
        "LoRA introduces a mechanism to fine-tune large language models by injecting small low-rank matrices into the model's architecture. Instead of updating all parameters during training, LoRA trains these small matrices while keeping the majority of the original parameters frozen.  This is achieved as follows:\n",
        "\n",
        "1. **Frozen Weights**: The pretrained weights of the model, represented as a weight matrix $ W \\in \\mathbb{R}^{d \\times k} $, remain **frozen** during fine-tuning.\n",
        "\n",
        "2. **Low-Rank Decomposition**:\n",
        "   Instead of directly updating $ W $, LoRA introduces two trainable matrices, $ A \\in \\mathbb{R}^{d \\times r} $ and $ B \\in \\mathbb{R}^{r \\times k} $, where $ r \\ll \\min(d, k) $.  \n",
        "   These matrices approximate the update to $ W $ as:\n",
        "   $$\n",
        "   \\Delta W = A \\cdot B\n",
        "   $$\n",
        "\n",
        "   Here, $ r $, the rank of the decomposition, is a key hyperparameter that determines the trade-off between computational cost and model capacity.\n",
        "\n",
        "3. **Adaptation**:\n",
        "   During training, instead of updating $ W $, the adapted weight is:\n",
        "   $$\n",
        "   W' = W + \\Delta W = W + A \\cdot B\n",
        "   $$\n",
        "   Only the low-rank matrices $ A $ and $ B $ are optimized, while $ W $ remains fixed.\n",
        "\n",
        "4. **Efficiency**:\n",
        "   Since $ r $ is much smaller than $ d $ and $ k $, the number of trainable parameters in $ A $ and $ B $ is significantly less than in $ W $. This makes the approach highly efficient both in terms of computation and memory.\n",
        "\n",
        "---\n",
        "\n",
        "###  **Fine-Tuning TinyBERT**\n",
        "\n",
        "For this part, we will fine-tune **TinyBERT**, a distilled version of BERT, using the LoRA method.\n",
        "\n",
        "- **What is TinyBERT?**\n",
        "\n",
        "TinyBERT is a lightweight version of the original BERT model created through knowledge distillation. It significantly reduces the model size and inference latency while preserving much of the original BERT’s effectiveness. Here are some key characteristics of TinyBERT:\n",
        "- It is designed to be more resource-efficient for tasks such as classification, question answering, and more.\n",
        "- TinyBERT retains a compact structure with fewer layers and parameters, making it ideal for fine-tuning with limited computational resources.\n"
      ]
    },
    {
      "cell_type": "markdown",
      "metadata": {
        "id": "n_Og-pBeV5x6"
      },
      "source": [
        "> Similar to the previous section, training this model might take some time. Given the resource limitations, you can train the model for just **2-3 epochs** to demonstrate the process.\n"
      ]
    },
    {
      "cell_type": "code",
      "execution_count": null,
      "metadata": {
        "id": "fe1vGCZwU7MZ"
      },
      "outputs": [],
      "source": [
        "from transformers import AutoModelForSequenceClassification, AutoTokenizer\n",
        "from peft import get_peft_model, LoraConfig, TaskType\n",
        "import torch\n",
        "import torch.nn as nn\n",
        "from torch.utils.data import Dataset, DataLoader\n",
        "import numpy as np\n",
        "from tqdm import tqdm"
      ]
    },
    {
      "cell_type": "code",
      "execution_count": null,
      "metadata": {
        "id": "LIyN5vOLLWz6"
      },
      "outputs": [],
      "source": [
        "######################  TODO  ########################\n",
        "######################  TODO  ########################\n",
        "\n",
        "# Load the pre-trained TinyBERT\n",
        "model_name = \"prajjwal1/bert-tiny\"\n",
        "base_model = # TODO\n",
        "tokenizer = # TODO\n",
        "\n",
        "# Define LoRA Configuration\n",
        "lora_config = # TODO\n",
        "\n",
        "######################  TODO  ########################\n",
        "######################  TODO  ########################"
      ]
    },
    {
      "cell_type": "code",
      "execution_count": null,
      "metadata": {
        "id": "jMgwZ8YmLuZ_"
      },
      "outputs": [],
      "source": [
        "######################  TODO  ########################\n",
        "######################  TODO  ########################\n",
        "\n",
        "# Apply LoRA to model\n",
        "lora_model = # TODO\n",
        "\n",
        "# TODO: Show the number of trainable parameters\n",
        "\n",
        "# Training configuration\n",
        "optimizer = # TODO\n",
        "criterion = # TODO\n",
        "\n",
        "######################  TODO  ########################\n",
        "######################  TODO  ########################"
      ]
    },
    {
      "cell_type": "code",
      "execution_count": null,
      "metadata": {
        "id": "J395FrcWMbmx"
      },
      "outputs": [],
      "source": [
        "######################  TODO  ########################\n",
        "######################  TODO  ########################\n",
        "\n",
        "optimizer = # TODO\n",
        "num_epochs = # TODO\n",
        "\n",
        "# Training loop\n",
        "for epoch in range(num_epochs):\n",
        "\n",
        "    lora_model.train()\n",
        "\n",
        "    for batch in tqdm(train_loader):\n",
        "        optimizer.zero_grad()\n",
        "\n",
        "        input_ids = # TODO\n",
        "        attention_mask = # TODO\n",
        "        labels = # TODO\n",
        "\n",
        "        outputs = lora_model(\n",
        "            input_ids=input_ids,\n",
        "            attention_mask=attention_mask,\n",
        "            labels=labels\n",
        "        )\n",
        "\n",
        "        # TODO: Perform backpropagation and update the optimizer. Hint: Use outputs.loss to access the model's loss.\n",
        "\n",
        "        # TODO: Monitor the training process by reporting metrics such as loss and accuracy.\n",
        "\n",
        "\n",
        "# TODO : Evaluate the model on test dataset\n",
        "\n",
        "######################  TODO  ########################\n",
        "######################  TODO  ########################"
      ]
    }
  ],
  "metadata": {
    "colab": {
      "provenance": []
    },
    "kernelspec": {
      "display_name": "Python 3",
      "name": "python3"
    },
    "language_info": {
      "name": "python"
    }
  },
  "nbformat": 4,
  "nbformat_minor": 0
}
