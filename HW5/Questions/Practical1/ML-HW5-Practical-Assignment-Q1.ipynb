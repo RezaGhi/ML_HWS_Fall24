{
  "cells": [
    {
      "cell_type": "markdown",
      "source": [
        "<br>\n",
        "<font>\n",
        "<div dir=ltr align=center>\n",
        "<img src=\"https://cdn.freebiesupply.com/logos/large/2x/sharif-logo-png-transparent.png\" width=150 height=150> <br>\n",
        "<font color=0F5298 size=7>\n",
        "    Machine learning <br>\n",
        "<font color=2565AE size=5>\n",
        "    Computer Engineering Department <br>\n",
        "    Fall 2024<br>\n",
        "<font color=3C99D size=5>\n",
        "    Practical Assignment 5 - NLP - Skip-Gram <br>\n",
        "<font color=0CBCDF size=4>\n",
        "   &#x1F335; Amirhossein Akbari  &#x1F335;\n",
        "</div>\n",
        "\n",
        "____"
      ],
      "metadata": {
        "id": "0QOmoitc9qC4"
      }
    },
    {
      "cell_type": "markdown",
      "source": [
        "<font color=9999FF size=4>\n",
        "&#x1F388; Full Name :\n",
        "<br>\n",
        "<font color=9999FF size=4>\n",
        "&#x1F388; Student Number :"
      ],
      "metadata": {
        "id": "35Y0nSE3-wuW"
      }
    },
    {
      "cell_type": "markdown",
      "source": [
        "<font color=0080FF size=3>\n",
        "This notebook explores word embeddings, compact and dense vector representations of words that capture their textual meaning. This notebook focusing on implementing the Word2Vec algorithm using the Skip-gram architecture and negative sampling.\n",
        "</font>\n",
        "<br>\n",
        "\n",
        "**Note:**\n",
        "<br>\n",
        "<font color=66B2FF size=2>In this notebook, you are free to use any function or model from TensorFlow to assist with the implementation. However, PyTorch is not permitted for this exercise. This ensures consistency and alignment with the tools being focused on.</font>\n",
        "<br>\n",
        "<font color=red size=3>**Run All Cells Before Submission**</font>: <font color=FF99CC size=2>Before saving and submitting your notebook, please ensure you run all cells from start to finish. This practice guarantees that your notebook is self-consistent and can be evaluated correctly by others.</font>"
      ],
      "metadata": {
        "id": "i4spZpsq_Pxf"
      }
    },
    {
      "cell_type": "markdown",
      "source": [
        "<font color=#ffb578 size=3>\n",
        "you are free to modify, add, or remove any cells as you see fit to complete your tasks. Feel free to change any of the provided code or content to better suit your understanding and approach to the problems.\n",
        "\n",
        "- **Questions**: If you have any questions or require clarifications as you work through the notebook, please do not hesitate to ask. You can post your queries on Quera or reach out via Telegram.\n",
        "- **Feedback**: We encourage you to seek feedback and engage in discussions to enhance your learning experience and improve your solutions.\n",
        "</font>"
      ],
      "metadata": {
        "id": "hZCaUs-3FsJk"
      }
    },
    {
      "cell_type": "code",
      "execution_count": null,
      "metadata": {
        "execution": {
          "iopub.execute_input": "2020-10-10T13:12:41.263643Z",
          "iopub.status.busy": "2020-10-10T13:12:41.262979Z",
          "iopub.status.idle": "2020-10-10T13:12:49.471771Z",
          "shell.execute_reply": "2020-10-10T13:12:49.471205Z"
        },
        "id": "hoV5vSSSbIp0",
        "outputId": "bc730d5e-2aa8-4bac-dc35-d94c178e8d16",
        "papermill": {
          "duration": 8.238801,
          "end_time": "2020-10-10T13:12:49.471884",
          "exception": false,
          "start_time": "2020-10-10T13:12:41.233083",
          "status": "completed"
        },
        "tags": [],
        "colab": {
          "base_uri": "https://localhost:8080/"
        }
      },
      "outputs": [
        {
          "output_type": "stream",
          "name": "stderr",
          "text": [
            "[nltk_data] Downloading package stopwords to /root/nltk_data...\n",
            "[nltk_data]   Unzipping corpora/stopwords.zip.\n"
          ]
        }
      ],
      "source": [
        "import io\n",
        "import math\n",
        "import gzip\n",
        "import nltk\n",
        "import time\n",
        "import random\n",
        "import numpy as np\n",
        "import tensorflow as tf\n",
        "import gensim.downloader as api\n",
        "import tensorflow_datasets as tfds\n",
        "nltk.download('stopwords')\n",
        "\n",
        "from collections import Counter\n",
        "from nltk.corpus import stopwords\n",
        "from tensorflow.keras.preprocessing.text import Tokenizer\n",
        "from tensorflow.keras.preprocessing.sequence import skipgrams\n"
      ]
    },
    {
      "cell_type": "markdown",
      "metadata": {
        "id": "3pwuegqx-JWf",
        "papermill": {
          "duration": 0.023154,
          "end_time": "2020-10-10T13:12:49.521385",
          "exception": false,
          "start_time": "2020-10-10T13:12:49.498231",
          "status": "completed"
        },
        "tags": []
      },
      "source": [
        "### Downloading Dataset\n",
        "We're going to use text8 dataset. Text8 is first 100,000,000 bytes of plain text from Wikipedia. It's mainly used for testing purposes."
      ]
    },
    {
      "cell_type": "code",
      "execution_count": null,
      "metadata": {
        "execution": {
          "iopub.execute_input": "2020-10-10T13:12:49.580623Z",
          "iopub.status.busy": "2020-10-10T13:12:49.579765Z",
          "iopub.status.idle": "2020-10-10T13:13:03.778660Z",
          "shell.execute_reply": "2020-10-10T13:13:03.779347Z"
        },
        "id": "XG-FjuVEFLGW",
        "outputId": "9d1e8f9a-8712-40e9-ddca-1e1ef563bd94",
        "papermill": {
          "duration": 14.234694,
          "end_time": "2020-10-10T13:13:03.779495",
          "exception": false,
          "start_time": "2020-10-10T13:12:49.544801",
          "status": "completed"
        },
        "tags": [],
        "colab": {
          "base_uri": "https://localhost:8080/"
        }
      },
      "outputs": [
        {
          "output_type": "stream",
          "name": "stdout",
          "text": [
            "[==================================================] 100.0% 31.6/31.6MB downloaded\n"
          ]
        }
      ],
      "source": [
        "def load_data():\n",
        "  text8_zip_file_path = api.load('text8', return_path=True)\n",
        "  with gzip.open(text8_zip_file_path, 'rb') as file:\n",
        "    file_content = file.read()\n",
        "  wiki = file_content.decode()\n",
        "  return wiki\n",
        "\n",
        "wiki = load_data()"
      ]
    },
    {
      "cell_type": "markdown",
      "metadata": {
        "id": "QYBT_-Vy_af4",
        "papermill": {
          "duration": 1.449897,
          "end_time": "2020-10-10T13:13:06.611079",
          "exception": false,
          "start_time": "2020-10-10T13:13:05.161182",
          "status": "completed"
        },
        "tags": []
      },
      "source": [
        "### Preprocessing data\n",
        "\n",
        "**Stopwords removal** - Begin by removing stopwords from the dataset, as they provide little to no value in learning word embeddings. Ensure your preprocessing pipeline filters out commonly used words such as \"the,\" \"and,\" or \"of\" that do not contribute to meaningful semantic relationships.\n",
        "\n",
        "---\n",
        "\n",
        "**Subsampling words** - In a large corpora, most frequent words can easily occur hundreds of millions of times and such words usually don't bring much information to the table.  It is of essential importance to cut down on their frequencies to mitigate the negative impact it adds. For example, co-occurrences of \"English\" and \"Spanish\" benefit much more than co-occurrences of \"English\" and \"the\" or \"Spanish\" and \"of\". To counter the imbalance between rare and frequent words Mikolov et. al came up with the following heuristic formula for determining probability to drop a particular word:\n",
        "\n",
        "![formula.png](data:image/png;base64,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)\n",
        "\n",
        "where t is threshold value (heuristically set to 1e-5) and f(w) is frequency of the word.\n",
        "\n",
        "Implement a subsampling mechanism to handle overly frequent words in the corpus. Use the heuristic formula provided by Mikolov et al. to calculate the probability of dropping a word based on its frequency. This step ensures the corpus maintains a balance between rare and frequent words, improving the quality of word co-occurrence relationships.\n",
        "\n",
        "---\n",
        "\n",
        "**Filtering words** - Filter out words that occur only once in the dataset, as they lack sufficient context to be represented effectively. Retain only those words that appear at least five times in the corpus to minimize noise and enhance the overall quality of the embeddings.\n"
      ]
    },
    {
      "cell_type": "code",
      "execution_count": null,
      "metadata": {
        "execution": {
          "iopub.execute_input": "2020-10-10T13:13:09.551725Z",
          "iopub.status.busy": "2020-10-10T13:13:09.441732Z",
          "iopub.status.idle": "2020-10-10T13:13:11.452524Z",
          "shell.execute_reply": "2020-10-10T13:13:11.451989Z"
        },
        "id": "wp50T2OqA-7L",
        "papermill": {
          "duration": 3.4315,
          "end_time": "2020-10-10T13:13:11.452631",
          "exception": false,
          "start_time": "2020-10-10T13:13:08.021131",
          "status": "completed"
        },
        "tags": []
      },
      "outputs": [],
      "source": [
        "def preprocess_text(text):\n",
        "  # Step 1: Replace punctuation with tokens to standardize the text for processing\n",
        "  # Example: Replace '.', ',', and other punctuation marks with specific tokens\n",
        "\n",
        "  # Step 2: Convert text to lowercase and remove unnecessary whitespaces\n",
        "  # Example: Apply text.lower() and text.strip()\n",
        "\n",
        "  # Step 3: Remove stopwords from the text\n",
        "  # Example: Filter out common words such as 'the', 'and', 'of' using a predefined stopwords list\n",
        "\n",
        "  # Step 4: Remove words with frequency less than 5\n",
        "  # Example: Count word frequencies and filter words appearing fewer than 5 times\n",
        "\n",
        "  # Step 5: Subsample words using a threshold value (e.g., 1e-5)\n",
        "  # Example: Implement the subsampling heuristic to reduce the frequency of overly common words\n",
        "\n",
        "  # Return the processed words and word counts\n",
        "  pass"
      ]
    },
    {
      "cell_type": "markdown",
      "metadata": {
        "id": "4260B2ZFJ_EA",
        "papermill": {
          "duration": 1.777391,
          "end_time": "2020-10-10T13:13:14.603396",
          "exception": false,
          "start_time": "2020-10-10T13:13:12.826005",
          "status": "completed"
        },
        "tags": []
      },
      "source": [
        "It's always a good idea to take a quick look at preprocessed sample before heading further - you might observe few things that if handled can enrich or correct your data. More like a validation step this."
      ]
    },
    {
      "cell_type": "code",
      "execution_count": null,
      "metadata": {
        "execution": {
          "iopub.execute_input": "2020-10-10T13:13:17.665608Z",
          "iopub.status.busy": "2020-10-10T13:13:17.664211Z",
          "iopub.status.idle": "2020-10-10T13:13:17.667915Z",
          "shell.execute_reply": "2020-10-10T13:13:17.668396Z"
        },
        "id": "_oNvdt-v1dw0",
        "papermill": {
          "duration": 1.689149,
          "end_time": "2020-10-10T13:13:17.668521",
          "exception": false,
          "start_time": "2020-10-10T13:13:15.979372",
          "status": "completed"
        },
        "tags": []
      },
      "outputs": [],
      "source": [
        "# Take a quick look at a slice of preprocessed words (e.g., index 1500 to 1550)"
      ]
    },
    {
      "cell_type": "markdown",
      "metadata": {
        "id": "lCkFtaa_KrTb",
        "papermill": {
          "duration": 1.426874,
          "end_time": "2020-10-10T13:13:20.673211",
          "exception": false,
          "start_time": "2020-10-10T13:13:19.246337",
          "status": "completed"
        },
        "tags": []
      },
      "source": [
        "### Hyperparameters\n",
        "Setting a few hyperparamters required for gnerating batches and for deciding the size of word embeddings.\n",
        "\n"
      ]
    },
    {
      "cell_type": "code",
      "execution_count": null,
      "metadata": {
        "execution": {
          "iopub.execute_input": "2020-10-10T13:13:23.483005Z",
          "iopub.status.busy": "2020-10-10T13:13:23.482371Z",
          "iopub.status.idle": "2020-10-10T13:13:23.486821Z",
          "shell.execute_reply": "2020-10-10T13:13:23.486338Z"
        },
        "id": "mJLzBkSIKoMx",
        "papermill": {
          "duration": 1.447402,
          "end_time": "2020-10-10T13:13:23.486929",
          "exception": false,
          "start_time": "2020-10-10T13:13:22.039527",
          "status": "completed"
        },
        "tags": []
      },
      "outputs": [],
      "source": [
        "EMBEDDING_DIM =\n",
        "BUFFER_SIZE =\n",
        "BATCH_SIZE =\n",
        "EPOCHS ="
      ]
    },
    {
      "cell_type": "markdown",
      "metadata": {
        "id": "0oO7N0ZsLofI",
        "papermill": {
          "duration": 1.481198,
          "end_time": "2020-10-10T13:13:26.663213",
          "exception": false,
          "start_time": "2020-10-10T13:13:25.182015",
          "status": "completed"
        },
        "tags": []
      },
      "source": [
        "### Preparing TensorFlow Dataset using Skipgrams\n",
        "\n",
        "**Generating Skipgrams**\n",
        "\n",
        "Tokenize your preprocessed textual data and convert the words into their corresponding vectorized tokens. Then, use the `skipgrams` function provided by Keras to generate (word, context) pairs. Ensure the following steps are completed:\n",
        "\n",
        "- Generate positive samples: (word, word in the same window), with label 1.  \n",
        "- Generate negative samples: (word, random word from the vocabulary), with label 0.  \n",
        "\n",
        "Refer to Mikolov et al.'s paper, [Efficient Estimation of Word Representations in Vector Space](https://arxiv.org/pdf/1301.3781v3.pdf), for more details on Skipgrams.\n",
        "\n",
        "---\n",
        "\n",
        "**Negative Sampling**\n",
        "\n",
        "For each input word, implement the negative sampling approach to optimize the training process. Transform the problem of predicting context words into independent binary classification tasks. For every (target, context) pair, generate random negative (target, ~context) samples. This step will reduce computational complexity and make training more efficient.\n"
      ]
    },
    {
      "cell_type": "code",
      "execution_count": null,
      "metadata": {
        "execution": {
          "iopub.execute_input": "2020-10-10T13:13:29.493673Z",
          "iopub.status.busy": "2020-10-10T13:13:29.483476Z",
          "iopub.status.idle": "2020-10-10T13:14:02.707005Z",
          "shell.execute_reply": "2020-10-10T13:14:02.705890Z"
        },
        "id": "Uq4-jfYOjonO",
        "papermill": {
          "duration": 34.646886,
          "end_time": "2020-10-10T13:14:02.707124",
          "exception": false,
          "start_time": "2020-10-10T13:13:28.060238",
          "status": "completed"
        },
        "tags": []
      },
      "outputs": [],
      "source": [
        "# Step 1: Initialize and fit the tokenizer on preprocessed words\n",
        "# Tokenize the preprocessed words and create a vocabulary index\n",
        "\n",
        "# Step 2: Vectorize the words using the tokenizer's word index\n",
        "# Convert the preprocessed words into vectorized tokens\n",
        "\n",
        "# Step 3: Generate skipgram pairs and labels\n",
        "# Use the skipgrams function to create (word, context) pairs with their labels\n",
        "\n",
        "# Step 4: Extract target and context words from the generated pairs\n",
        "# Separate the target words and context words for training\n",
        "\n",
        "# Step 5: Split the data into training and testing sets\n",
        "# Define a sample size and divide the data into training and testing subsets\n",
        "\n",
        "# Step 6: Create TensorFlow datasets\n",
        "# Prepare TensorFlow datasets for training and testing with appropriate batching and shuffling"
      ]
    },
    {
      "cell_type": "code",
      "execution_count": null,
      "metadata": {
        "execution": {
          "iopub.execute_input": "2020-10-10T13:14:05.592072Z",
          "iopub.status.busy": "2020-10-10T13:14:05.591186Z",
          "iopub.status.idle": "2020-10-10T13:14:12.984172Z",
          "shell.execute_reply": "2020-10-10T13:14:12.984873Z"
        },
        "id": "JRHxw7X4zOpg",
        "outputId": "93baea2c-a55c-432b-fbe3-831c5ba43785",
        "papermill": {
          "duration": 8.912486,
          "end_time": "2020-10-10T13:14:12.985042",
          "exception": false,
          "start_time": "2020-10-10T13:14:04.072556",
          "status": "completed"
        },
        "tags": []
      },
      "outputs": [
        {
          "name": "stdout",
          "output_type": "stream",
          "text": [
            "# (train, test) batches: 21445, 2382\n"
          ]
        }
      ],
      "source": [
        "# Print the number of batches in the training and testing datasets"
      ]
    },
    {
      "cell_type": "markdown",
      "metadata": {
        "id": "VUatOx50OXF1",
        "papermill": {
          "duration": 1.350656,
          "end_time": "2020-10-10T13:14:15.692486",
          "exception": false,
          "start_time": "2020-10-10T13:14:14.341830",
          "status": "completed"
        },
        "tags": []
      },
      "source": [
        "### Building the Model\n",
        "\n",
        "Use the model subclassing method to build your model. While Sequential and Functional APIs are generally more suitable for most use cases, model subclassing allows you to create the model in an object-oriented way. Follow these steps:\n",
        "\n",
        "1. Define a custom model class by inheriting from `tf.keras.Model`.\n",
        "2. Implement the `__init__` method to define the layers of your model.\n",
        "3. Override the `call` method to define the forward pass of your model.\n",
        "4. Ensure that the model includes embedding layers, a skip-gram architecture, and any other necessary components for training.\n"
      ]
    },
    {
      "cell_type": "code",
      "execution_count": null,
      "metadata": {
        "execution": {
          "iopub.execute_input": "2020-10-10T13:14:18.975942Z",
          "iopub.status.busy": "2020-10-10T13:14:18.969008Z",
          "iopub.status.idle": "2020-10-10T13:14:19.276913Z",
          "shell.execute_reply": "2020-10-10T13:14:19.276347Z"
        },
        "id": "6gLxFZ9Eu9Tw",
        "papermill": {
          "duration": 1.935377,
          "end_time": "2020-10-10T13:14:19.277030",
          "exception": false,
          "start_time": "2020-10-10T13:14:17.341653",
          "status": "completed"
        },
        "tags": []
      },
      "outputs": [],
      "source": [
        "# Step 1: Create a custom model class by subclassing `tf.keras.Model`\n",
        "# Define a class that inherits from the Keras Model class\n",
        "\n",
        "# Step 2: Initialize the layers in the `__init__` method\n",
        "# Define all the layers such as embedding, dense, or output layers\n",
        "\n",
        "# Step 3: Implement the forward pass in the `call` method\n",
        "# Define how the input data flows through the model to produce the output\n",
        "\n",
        "# Step 4: Ensure the model implements the skip-gram architecture\n",
        "# Include logic for embedding lookups and processing positive and negative samples\n",
        "\n",
        "# Step 5: Verify that the model structure aligns with the objective\n",
        "# Test the forward pass to ensure proper layer connections and outputs"
      ]
    },
    {
      "cell_type": "markdown",
      "metadata": {
        "id": "RN3SV3zv0pXG",
        "papermill": {
          "duration": 1.56129,
          "end_time": "2020-10-10T13:14:22.236946",
          "exception": false,
          "start_time": "2020-10-10T13:14:20.675656",
          "status": "completed"
        },
        "tags": []
      },
      "source": [
        "### Loss function, Metrics and Optimizers"
      ]
    },
    {
      "cell_type": "code",
      "execution_count": null,
      "metadata": {
        "execution": {
          "iopub.execute_input": "2020-10-10T13:14:25.048870Z",
          "iopub.status.busy": "2020-10-10T13:14:25.048241Z",
          "iopub.status.idle": "2020-10-10T13:14:25.068088Z",
          "shell.execute_reply": "2020-10-10T13:14:25.067312Z"
        },
        "id": "ENLrMWOtpixA",
        "papermill": {
          "duration": 1.420264,
          "end_time": "2020-10-10T13:14:25.068193",
          "exception": false,
          "start_time": "2020-10-10T13:14:23.647929",
          "status": "completed"
        },
        "tags": []
      },
      "outputs": [],
      "source": [
        "optimiser =\n",
        "loss_fn =\n",
        "train_acc_metric =\n",
        "val_acc_metric ="
      ]
    },
    {
      "cell_type": "markdown",
      "metadata": {
        "id": "7eyQ_o1EWuJA",
        "papermill": {
          "duration": 1.384257,
          "end_time": "2020-10-10T13:14:27.862984",
          "exception": false,
          "start_time": "2020-10-10T13:14:26.478727",
          "status": "completed"
        },
        "tags": []
      },
      "source": [
        "### Training the Model\n",
        "\n",
        "Implement custom training for learning word embeddings to gain finer control over optimization and training tasks. Follow these steps:\n",
        "\n",
        "1. Define a custom training loop that includes forward propagation, loss computation, and backpropagation.\n",
        "2. Use the optimizer of your choice to update the model's weights based on the computed gradients.\n",
        "3. Implement batching for efficient data processing during training.\n",
        "4. Monitor the loss during each epoch to track the model's performance.\n",
        "5. Save the trained embeddings for later use once the training is complete."
      ]
    },
    {
      "cell_type": "code",
      "execution_count": null,
      "metadata": {
        "execution": {
          "iopub.execute_input": "2020-10-10T13:14:30.800520Z",
          "iopub.status.busy": "2020-10-10T13:14:30.799563Z",
          "iopub.status.idle": "2020-10-10T13:36:46.204754Z",
          "shell.execute_reply": "2020-10-10T13:36:46.205408Z"
        },
        "id": "oHNb85OL29hu",
        "outputId": "dcf63bef-59c9-4fe9-d15f-9bf4624815de",
        "papermill": {
          "duration": 1336.991023,
          "end_time": "2020-10-10T13:36:46.205587",
          "exception": false,
          "start_time": "2020-10-10T13:14:29.214564",
          "status": "completed"
        },
        "tags": []
      },
      "outputs": [
        {
          "name": "stdout",
          "output_type": "stream",
          "text": [
            "Starting epoch: 0 \n",
            "Training acc over epoch: 0.6210\n",
            "Cummulative loss: 13484.8691 \n",
            "Validation acc over epoch: 0.7072\n",
            "Cummulative test loss: 1341.338867 \n",
            "Time taken: 269.35s\n",
            "Starting epoch: 1 \n",
            "Training acc over epoch: 0.8254\n",
            "Cummulative loss: 8453.4688 \n",
            "Validation acc over epoch: 0.7842\n",
            "Cummulative test loss: 1193.265137 \n",
            "Time taken: 268.32s\n",
            "Starting epoch: 2 \n",
            "Training acc over epoch: 0.9158\n",
            "Cummulative loss: 4827.6738 \n",
            "Validation acc over epoch: 0.8211\n",
            "Cummulative test loss: 1236.550415 \n",
            "Time taken: 267.34s\n",
            "Starting epoch: 3 \n",
            "Training acc over epoch: 0.9533\n",
            "Cummulative loss: 3010.3184 \n",
            "Validation acc over epoch: 0.8390\n",
            "Cummulative test loss: 1274.631592 \n",
            "Time taken: 268.29s\n",
            "Starting epoch: 4 \n",
            "Training acc over epoch: 0.9704\n",
            "Cummulative loss: 2110.4041 \n",
            "Validation acc over epoch: 0.8517\n",
            "Cummulative test loss: 1274.660400 \n",
            "Time taken: 262.10s\n"
          ]
        }
      ],
      "source": [
        "# Step 1: Define the training step\n",
        "# Create a `train_step` function using `tf.GradientTape` to compute predictions, calculate loss, and apply gradients to update model weights\n",
        "\n",
        "# Step 2: Define the testing step\n",
        "# Create a `test_step` function to compute predictions and calculate validation loss without updating the model weights\n",
        "\n",
        "# Step 3: Initialize the training loop\n",
        "# Set up a loop to iterate over epochs and train the model for the defined number of iterations\n",
        "\n",
        "# Step 4: Perform training on each batch\n",
        "# For each batch in the training dataset, call the `train_step` function and accumulate the loss\n",
        "\n",
        "# Step 5: Compute and display training accuracy\n",
        "# Update and reset training accuracy metrics after each epoch and log the results\n",
        "\n",
        "# Step 6: Perform validation on the test dataset\n",
        "# For each batch in the test dataset, call the `test_step` function to calculate validation loss and accuracy\n",
        "\n",
        "# Step 7: Log validation metrics\n",
        "# Compute and log validation accuracy and cumulative test loss for each epoch\n",
        "\n",
        "# Step 8: Track time per epoch\n",
        "# Record and display the time taken to complete each epoch for performance monitoring"
      ]
    },
    {
      "cell_type": "code",
      "execution_count": null,
      "metadata": {
        "execution": {
          "iopub.execute_input": "2020-10-10T13:36:48.935958Z",
          "iopub.status.busy": "2020-10-10T13:36:48.935357Z",
          "iopub.status.idle": "2020-10-10T13:36:48.973240Z",
          "shell.execute_reply": "2020-10-10T13:36:48.972739Z"
        },
        "id": "V2iWMNGQahsc",
        "papermill": {
          "duration": 1.409531,
          "end_time": "2020-10-10T13:36:48.973383",
          "exception": false,
          "start_time": "2020-10-10T13:36:47.563852",
          "status": "completed"
        },
        "tags": []
      },
      "outputs": [],
      "source": [
        "# Save weights to a Tensorflow Checkpoint file"
      ]
    },
    {
      "cell_type": "markdown",
      "metadata": {
        "id": "bb7Wx_rzZOOm",
        "papermill": {
          "duration": 1.591393,
          "end_time": "2020-10-10T13:36:51.938622",
          "exception": false,
          "start_time": "2020-10-10T13:36:50.347229",
          "status": "completed"
        },
        "tags": []
      },
      "source": [
        "### Word Embeddings Projector\n",
        "\n",
        "Follow these steps to visualize the learned word embeddings using TensorFlow's Embedding Projector:\n",
        "\n",
        "1. Extract the weights of the embedding layer from your trained model.\n",
        "2. Save the weights into two files:\n",
        "   - `vecs.tsv`: This file will store the actual vector representations of words.\n",
        "   - `meta.tsv`: This file will store the associated metadata (e.g., word labels) for visualization.\n",
        "3. Go to [TensorFlow Embedding Projector](http://projector.tensorflow.org/).\n",
        "4. Upload the `vecs.tsv` and `meta.tsv` files created in the previous step.\n",
        "5. Explore the visualizations provided by TensorFlow's Embedding Projector.\n",
        "<font color=#ffb578>\n",
        "6.Save the visualization of a word that best demonstrate the quality of your embeddings as an image and store it near the notebook.\n",
        "7. Compress the folder into a `.zip` file and submit it as part of your work.\n",
        "\n",
        "</font>\n"
      ]
    },
    {
      "cell_type": "code",
      "execution_count": null,
      "metadata": {
        "execution": {
          "iopub.execute_input": "2020-10-10T13:36:54.675412Z",
          "iopub.status.busy": "2020-10-10T13:36:54.674309Z",
          "iopub.status.idle": "2020-10-10T13:36:56.018539Z",
          "shell.execute_reply": "2020-10-10T13:36:56.017942Z"
        },
        "id": "fGpXtNRS-V_u",
        "papermill": {
          "duration": 2.703171,
          "end_time": "2020-10-10T13:36:56.018656",
          "exception": false,
          "start_time": "2020-10-10T13:36:53.315485",
          "status": "completed"
        },
        "tags": [],
        "outputId": "d107098b-260d-4a29-cd17-b25db895ccf0"
      },
      "outputs": [
        {
          "name": "stdout",
          "output_type": "stream",
          "text": [
            "Word Embeddings shape: (12378, 128)\n"
          ]
        }
      ],
      "source": [
        "# Step 1: Access the embedding layer from the trained model\n",
        "# Retrieve the first layer (embedding layer) from the model\n",
        "\n",
        "# Step 2: Extract the weights from the embedding layer\n",
        "# Get the weights (word embeddings) as a NumPy array\n",
        "\n",
        "# Step 3: Open files to store embeddings and metadata\n",
        "# Create two files - 'vecs.tsv' for embeddings and 'meta.tsv' for word metadata\n",
        "\n",
        "# Step 4: Iterate through the tokenizer's vocabulary\n",
        "# For each word in the vocabulary, write its metadata and embeddings to the files\n",
        "\n",
        "# Step 5: Close the files after writing\n",
        "# Ensure that the files are properly saved and closed"
      ]
    }
  ],
  "metadata": {
    "kernelspec": {
      "display_name": "Python 3",
      "language": "python",
      "name": "python3"
    },
    "language_info": {
      "codemirror_mode": {
        "name": "ipython",
        "version": 3
      },
      "file_extension": ".py",
      "mimetype": "text/x-python",
      "name": "python",
      "nbconvert_exporter": "python",
      "pygments_lexer": "ipython3",
      "version": "3.7.6"
    },
    "papermill": {
      "duration": 1467.163823,
      "end_time": "2020-10-10T13:37:04.319726",
      "environment_variables": {},
      "exception": null,
      "input_path": "__notebook__.ipynb",
      "output_path": "__notebook__.ipynb",
      "parameters": {},
      "start_time": "2020-10-10T13:12:37.155903",
      "version": "2.1.0"
    },
    "colab": {
      "provenance": []
    }
  },
  "nbformat": 4,
  "nbformat_minor": 0
}